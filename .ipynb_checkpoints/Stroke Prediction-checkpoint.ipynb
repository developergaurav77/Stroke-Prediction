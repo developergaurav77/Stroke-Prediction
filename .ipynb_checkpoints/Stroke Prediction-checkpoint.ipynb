{
 "cells": [
  {
   "cell_type": "code",
   "execution_count": 1,
   "id": "6bfc8799-fed1-45c1-842b-c00759871d32",
   "metadata": {},
   "outputs": [],
   "source": [
    "import numpy as np\n",
    "import pandas as pd\n",
    "import matplotlib.pyplot as plt\n",
    "import seaborn as sns\n",
    "import joblib"
   ]
  },
  {
   "cell_type": "code",
   "execution_count": 2,
   "id": "6ff00f94-7267-4b77-b4d3-d2e40d4bb1fc",
   "metadata": {},
   "outputs": [],
   "source": [
    "df = pd.read_csv('Data/healthcare-dataset-stroke-data.csv')"
   ]
  },
  {
   "cell_type": "code",
   "execution_count": 3,
   "id": "cc1ec67a-3c6a-4f1f-b2f8-c57cfa7c223c",
   "metadata": {},
   "outputs": [
    {
     "data": {
      "text/html": [
       "<div>\n",
       "<style scoped>\n",
       "    .dataframe tbody tr th:only-of-type {\n",
       "        vertical-align: middle;\n",
       "    }\n",
       "\n",
       "    .dataframe tbody tr th {\n",
       "        vertical-align: top;\n",
       "    }\n",
       "\n",
       "    .dataframe thead th {\n",
       "        text-align: right;\n",
       "    }\n",
       "</style>\n",
       "<table border=\"1\" class=\"dataframe\">\n",
       "  <thead>\n",
       "    <tr style=\"text-align: right;\">\n",
       "      <th></th>\n",
       "      <th>id</th>\n",
       "      <th>gender</th>\n",
       "      <th>age</th>\n",
       "      <th>hypertension</th>\n",
       "      <th>heart_disease</th>\n",
       "      <th>ever_married</th>\n",
       "      <th>work_type</th>\n",
       "      <th>Residence_type</th>\n",
       "      <th>avg_glucose_level</th>\n",
       "      <th>bmi</th>\n",
       "      <th>smoking_status</th>\n",
       "      <th>stroke</th>\n",
       "    </tr>\n",
       "  </thead>\n",
       "  <tbody>\n",
       "    <tr>\n",
       "      <th>0</th>\n",
       "      <td>9046</td>\n",
       "      <td>Male</td>\n",
       "      <td>67.0</td>\n",
       "      <td>0</td>\n",
       "      <td>1</td>\n",
       "      <td>Yes</td>\n",
       "      <td>Private</td>\n",
       "      <td>Urban</td>\n",
       "      <td>228.69</td>\n",
       "      <td>36.6</td>\n",
       "      <td>formerly smoked</td>\n",
       "      <td>1</td>\n",
       "    </tr>\n",
       "    <tr>\n",
       "      <th>1</th>\n",
       "      <td>51676</td>\n",
       "      <td>Female</td>\n",
       "      <td>61.0</td>\n",
       "      <td>0</td>\n",
       "      <td>0</td>\n",
       "      <td>Yes</td>\n",
       "      <td>Self-employed</td>\n",
       "      <td>Rural</td>\n",
       "      <td>202.21</td>\n",
       "      <td>NaN</td>\n",
       "      <td>never smoked</td>\n",
       "      <td>1</td>\n",
       "    </tr>\n",
       "    <tr>\n",
       "      <th>2</th>\n",
       "      <td>31112</td>\n",
       "      <td>Male</td>\n",
       "      <td>80.0</td>\n",
       "      <td>0</td>\n",
       "      <td>1</td>\n",
       "      <td>Yes</td>\n",
       "      <td>Private</td>\n",
       "      <td>Rural</td>\n",
       "      <td>105.92</td>\n",
       "      <td>32.5</td>\n",
       "      <td>never smoked</td>\n",
       "      <td>1</td>\n",
       "    </tr>\n",
       "    <tr>\n",
       "      <th>3</th>\n",
       "      <td>60182</td>\n",
       "      <td>Female</td>\n",
       "      <td>49.0</td>\n",
       "      <td>0</td>\n",
       "      <td>0</td>\n",
       "      <td>Yes</td>\n",
       "      <td>Private</td>\n",
       "      <td>Urban</td>\n",
       "      <td>171.23</td>\n",
       "      <td>34.4</td>\n",
       "      <td>smokes</td>\n",
       "      <td>1</td>\n",
       "    </tr>\n",
       "    <tr>\n",
       "      <th>4</th>\n",
       "      <td>1665</td>\n",
       "      <td>Female</td>\n",
       "      <td>79.0</td>\n",
       "      <td>1</td>\n",
       "      <td>0</td>\n",
       "      <td>Yes</td>\n",
       "      <td>Self-employed</td>\n",
       "      <td>Rural</td>\n",
       "      <td>174.12</td>\n",
       "      <td>24.0</td>\n",
       "      <td>never smoked</td>\n",
       "      <td>1</td>\n",
       "    </tr>\n",
       "  </tbody>\n",
       "</table>\n",
       "</div>"
      ],
      "text/plain": [
       "      id  gender   age  hypertension  heart_disease ever_married  \\\n",
       "0   9046    Male  67.0             0              1          Yes   \n",
       "1  51676  Female  61.0             0              0          Yes   \n",
       "2  31112    Male  80.0             0              1          Yes   \n",
       "3  60182  Female  49.0             0              0          Yes   \n",
       "4   1665  Female  79.0             1              0          Yes   \n",
       "\n",
       "       work_type Residence_type  avg_glucose_level   bmi   smoking_status  \\\n",
       "0        Private          Urban             228.69  36.6  formerly smoked   \n",
       "1  Self-employed          Rural             202.21   NaN     never smoked   \n",
       "2        Private          Rural             105.92  32.5     never smoked   \n",
       "3        Private          Urban             171.23  34.4           smokes   \n",
       "4  Self-employed          Rural             174.12  24.0     never smoked   \n",
       "\n",
       "   stroke  \n",
       "0       1  \n",
       "1       1  \n",
       "2       1  \n",
       "3       1  \n",
       "4       1  "
      ]
     },
     "execution_count": 3,
     "metadata": {},
     "output_type": "execute_result"
    }
   ],
   "source": [
    "df.head()"
   ]
  },
  {
   "cell_type": "markdown",
   "id": "7f1139a4-99ab-4340-9518-4ee707504713",
   "metadata": {},
   "source": [
    "Feature Information\n",
    "1. id : unique identifier\n",
    "2. gender : male, female or other\n",
    "3. age : age of patient\n",
    "4. hypertension: 0 if the patient doesn't have hypertension, 1 if the patient has hypertension\n",
    "5. heart_disease: 0 if the patient doesn't have heart disease, 1 if the patient has a heart disease\n",
    "6. ever_married: no or yes\n",
    "7. work_type : childeren, govt_job, never_worked, private, self-employed\n",
    "8. Residence_type: Rural or Urban\n",
    "9. avg_glucose_level: glucose level in blood\n",
    "10.bmi : body mass index\n",
    "11.smoking_status : formely smoked, never smoked, smokes or unknown\n",
    "12.stroke : 1 if the patient had a stoke or 0 if not\n",
    "<br>\n",
    "note - unknown in smoking_status means that information is unavailable for this patient"
   ]
  },
  {
   "cell_type": "code",
   "execution_count": 4,
   "id": "ced3c143-e0fd-4102-a0cc-cba552fa8354",
   "metadata": {},
   "outputs": [
    {
     "data": {
      "text/plain": [
       "id                     0\n",
       "gender                 0\n",
       "age                    0\n",
       "hypertension           0\n",
       "heart_disease          0\n",
       "ever_married           0\n",
       "work_type              0\n",
       "Residence_type         0\n",
       "avg_glucose_level      0\n",
       "bmi                  201\n",
       "smoking_status         0\n",
       "stroke                 0\n",
       "dtype: int64"
      ]
     },
     "execution_count": 4,
     "metadata": {},
     "output_type": "execute_result"
    }
   ],
   "source": [
    "#checking for null value\n",
    "df.isnull().sum()"
   ]
  },
  {
   "cell_type": "code",
   "execution_count": 5,
   "id": "42ec6f04-15d2-4f3c-a2ba-6d9445c7a65a",
   "metadata": {},
   "outputs": [
    {
     "data": {
      "text/html": [
       "<div>\n",
       "<style scoped>\n",
       "    .dataframe tbody tr th:only-of-type {\n",
       "        vertical-align: middle;\n",
       "    }\n",
       "\n",
       "    .dataframe tbody tr th {\n",
       "        vertical-align: top;\n",
       "    }\n",
       "\n",
       "    .dataframe thead th {\n",
       "        text-align: right;\n",
       "    }\n",
       "</style>\n",
       "<table border=\"1\" class=\"dataframe\">\n",
       "  <thead>\n",
       "    <tr style=\"text-align: right;\">\n",
       "      <th></th>\n",
       "      <th>id</th>\n",
       "      <th>age</th>\n",
       "      <th>hypertension</th>\n",
       "      <th>heart_disease</th>\n",
       "      <th>avg_glucose_level</th>\n",
       "      <th>bmi</th>\n",
       "      <th>stroke</th>\n",
       "    </tr>\n",
       "  </thead>\n",
       "  <tbody>\n",
       "    <tr>\n",
       "      <th>id</th>\n",
       "      <td>1.000000</td>\n",
       "      <td>0.003538</td>\n",
       "      <td>0.003550</td>\n",
       "      <td>-0.001296</td>\n",
       "      <td>0.001092</td>\n",
       "      <td>0.003084</td>\n",
       "      <td>0.006388</td>\n",
       "    </tr>\n",
       "    <tr>\n",
       "      <th>age</th>\n",
       "      <td>0.003538</td>\n",
       "      <td>1.000000</td>\n",
       "      <td>0.276398</td>\n",
       "      <td>0.263796</td>\n",
       "      <td>0.238171</td>\n",
       "      <td>0.333398</td>\n",
       "      <td>0.245257</td>\n",
       "    </tr>\n",
       "    <tr>\n",
       "      <th>hypertension</th>\n",
       "      <td>0.003550</td>\n",
       "      <td>0.276398</td>\n",
       "      <td>1.000000</td>\n",
       "      <td>0.108306</td>\n",
       "      <td>0.174474</td>\n",
       "      <td>0.167811</td>\n",
       "      <td>0.127904</td>\n",
       "    </tr>\n",
       "    <tr>\n",
       "      <th>heart_disease</th>\n",
       "      <td>-0.001296</td>\n",
       "      <td>0.263796</td>\n",
       "      <td>0.108306</td>\n",
       "      <td>1.000000</td>\n",
       "      <td>0.161857</td>\n",
       "      <td>0.041357</td>\n",
       "      <td>0.134914</td>\n",
       "    </tr>\n",
       "    <tr>\n",
       "      <th>avg_glucose_level</th>\n",
       "      <td>0.001092</td>\n",
       "      <td>0.238171</td>\n",
       "      <td>0.174474</td>\n",
       "      <td>0.161857</td>\n",
       "      <td>1.000000</td>\n",
       "      <td>0.175502</td>\n",
       "      <td>0.131945</td>\n",
       "    </tr>\n",
       "    <tr>\n",
       "      <th>bmi</th>\n",
       "      <td>0.003084</td>\n",
       "      <td>0.333398</td>\n",
       "      <td>0.167811</td>\n",
       "      <td>0.041357</td>\n",
       "      <td>0.175502</td>\n",
       "      <td>1.000000</td>\n",
       "      <td>0.042374</td>\n",
       "    </tr>\n",
       "    <tr>\n",
       "      <th>stroke</th>\n",
       "      <td>0.006388</td>\n",
       "      <td>0.245257</td>\n",
       "      <td>0.127904</td>\n",
       "      <td>0.134914</td>\n",
       "      <td>0.131945</td>\n",
       "      <td>0.042374</td>\n",
       "      <td>1.000000</td>\n",
       "    </tr>\n",
       "  </tbody>\n",
       "</table>\n",
       "</div>"
      ],
      "text/plain": [
       "                         id       age  hypertension  heart_disease  \\\n",
       "id                 1.000000  0.003538      0.003550      -0.001296   \n",
       "age                0.003538  1.000000      0.276398       0.263796   \n",
       "hypertension       0.003550  0.276398      1.000000       0.108306   \n",
       "heart_disease     -0.001296  0.263796      0.108306       1.000000   \n",
       "avg_glucose_level  0.001092  0.238171      0.174474       0.161857   \n",
       "bmi                0.003084  0.333398      0.167811       0.041357   \n",
       "stroke             0.006388  0.245257      0.127904       0.134914   \n",
       "\n",
       "                   avg_glucose_level       bmi    stroke  \n",
       "id                          0.001092  0.003084  0.006388  \n",
       "age                         0.238171  0.333398  0.245257  \n",
       "hypertension                0.174474  0.167811  0.127904  \n",
       "heart_disease               0.161857  0.041357  0.134914  \n",
       "avg_glucose_level           1.000000  0.175502  0.131945  \n",
       "bmi                         0.175502  1.000000  0.042374  \n",
       "stroke                      0.131945  0.042374  1.000000  "
      ]
     },
     "execution_count": 5,
     "metadata": {},
     "output_type": "execute_result"
    }
   ],
   "source": [
    "#checking correlation between different features\n",
    "df.corr()"
   ]
  },
  {
   "cell_type": "code",
   "execution_count": 6,
   "id": "ba0542d6-2649-4592-95fd-665aa08232eb",
   "metadata": {},
   "outputs": [
    {
     "name": "stdout",
     "output_type": "stream",
     "text": [
      "<class 'pandas.core.frame.DataFrame'>\n",
      "RangeIndex: 5110 entries, 0 to 5109\n",
      "Data columns (total 12 columns):\n",
      "id                   5110 non-null int64\n",
      "gender               5110 non-null object\n",
      "age                  5110 non-null float64\n",
      "hypertension         5110 non-null int64\n",
      "heart_disease        5110 non-null int64\n",
      "ever_married         5110 non-null object\n",
      "work_type            5110 non-null object\n",
      "Residence_type       5110 non-null object\n",
      "avg_glucose_level    5110 non-null float64\n",
      "bmi                  4909 non-null float64\n",
      "smoking_status       5110 non-null object\n",
      "stroke               5110 non-null int64\n",
      "dtypes: float64(3), int64(4), object(5)\n",
      "memory usage: 479.2+ KB\n"
     ]
    }
   ],
   "source": [
    "#showing overall information about features\n",
    "df.info()"
   ]
  },
  {
   "cell_type": "code",
   "execution_count": 7,
   "id": "abf22f52-17e4-4e9d-8285-89c04ba4c944",
   "metadata": {},
   "outputs": [
    {
     "data": {
      "text/html": [
       "<div>\n",
       "<style scoped>\n",
       "    .dataframe tbody tr th:only-of-type {\n",
       "        vertical-align: middle;\n",
       "    }\n",
       "\n",
       "    .dataframe tbody tr th {\n",
       "        vertical-align: top;\n",
       "    }\n",
       "\n",
       "    .dataframe thead th {\n",
       "        text-align: right;\n",
       "    }\n",
       "</style>\n",
       "<table border=\"1\" class=\"dataframe\">\n",
       "  <thead>\n",
       "    <tr style=\"text-align: right;\">\n",
       "      <th></th>\n",
       "      <th>gender</th>\n",
       "      <th>ever_married</th>\n",
       "      <th>work_type</th>\n",
       "      <th>Residence_type</th>\n",
       "      <th>smoking_status</th>\n",
       "    </tr>\n",
       "  </thead>\n",
       "  <tbody>\n",
       "    <tr>\n",
       "      <th>0</th>\n",
       "      <td>Male</td>\n",
       "      <td>Yes</td>\n",
       "      <td>Private</td>\n",
       "      <td>Urban</td>\n",
       "      <td>formerly smoked</td>\n",
       "    </tr>\n",
       "    <tr>\n",
       "      <th>1</th>\n",
       "      <td>Female</td>\n",
       "      <td>Yes</td>\n",
       "      <td>Self-employed</td>\n",
       "      <td>Rural</td>\n",
       "      <td>never smoked</td>\n",
       "    </tr>\n",
       "    <tr>\n",
       "      <th>2</th>\n",
       "      <td>Male</td>\n",
       "      <td>Yes</td>\n",
       "      <td>Private</td>\n",
       "      <td>Rural</td>\n",
       "      <td>never smoked</td>\n",
       "    </tr>\n",
       "    <tr>\n",
       "      <th>3</th>\n",
       "      <td>Female</td>\n",
       "      <td>Yes</td>\n",
       "      <td>Private</td>\n",
       "      <td>Urban</td>\n",
       "      <td>smokes</td>\n",
       "    </tr>\n",
       "    <tr>\n",
       "      <th>4</th>\n",
       "      <td>Female</td>\n",
       "      <td>Yes</td>\n",
       "      <td>Self-employed</td>\n",
       "      <td>Rural</td>\n",
       "      <td>never smoked</td>\n",
       "    </tr>\n",
       "    <tr>\n",
       "      <th>...</th>\n",
       "      <td>...</td>\n",
       "      <td>...</td>\n",
       "      <td>...</td>\n",
       "      <td>...</td>\n",
       "      <td>...</td>\n",
       "    </tr>\n",
       "    <tr>\n",
       "      <th>5105</th>\n",
       "      <td>Female</td>\n",
       "      <td>Yes</td>\n",
       "      <td>Private</td>\n",
       "      <td>Urban</td>\n",
       "      <td>never smoked</td>\n",
       "    </tr>\n",
       "    <tr>\n",
       "      <th>5106</th>\n",
       "      <td>Female</td>\n",
       "      <td>Yes</td>\n",
       "      <td>Self-employed</td>\n",
       "      <td>Urban</td>\n",
       "      <td>never smoked</td>\n",
       "    </tr>\n",
       "    <tr>\n",
       "      <th>5107</th>\n",
       "      <td>Female</td>\n",
       "      <td>Yes</td>\n",
       "      <td>Self-employed</td>\n",
       "      <td>Rural</td>\n",
       "      <td>never smoked</td>\n",
       "    </tr>\n",
       "    <tr>\n",
       "      <th>5108</th>\n",
       "      <td>Male</td>\n",
       "      <td>Yes</td>\n",
       "      <td>Private</td>\n",
       "      <td>Rural</td>\n",
       "      <td>formerly smoked</td>\n",
       "    </tr>\n",
       "    <tr>\n",
       "      <th>5109</th>\n",
       "      <td>Female</td>\n",
       "      <td>Yes</td>\n",
       "      <td>Govt_job</td>\n",
       "      <td>Urban</td>\n",
       "      <td>Unknown</td>\n",
       "    </tr>\n",
       "  </tbody>\n",
       "</table>\n",
       "<p>5110 rows × 5 columns</p>\n",
       "</div>"
      ],
      "text/plain": [
       "      gender ever_married      work_type Residence_type   smoking_status\n",
       "0       Male          Yes        Private          Urban  formerly smoked\n",
       "1     Female          Yes  Self-employed          Rural     never smoked\n",
       "2       Male          Yes        Private          Rural     never smoked\n",
       "3     Female          Yes        Private          Urban           smokes\n",
       "4     Female          Yes  Self-employed          Rural     never smoked\n",
       "...      ...          ...            ...            ...              ...\n",
       "5105  Female          Yes        Private          Urban     never smoked\n",
       "5106  Female          Yes  Self-employed          Urban     never smoked\n",
       "5107  Female          Yes  Self-employed          Rural     never smoked\n",
       "5108    Male          Yes        Private          Rural  formerly smoked\n",
       "5109  Female          Yes       Govt_job          Urban          Unknown\n",
       "\n",
       "[5110 rows x 5 columns]"
      ]
     },
     "execution_count": 7,
     "metadata": {},
     "output_type": "execute_result"
    }
   ],
   "source": [
    "#printing only object datatype feature columns\n",
    "df.select_dtypes(include=['object'])"
   ]
  },
  {
   "cell_type": "markdown",
   "id": "9fdf8ecd-889d-4365-80f4-0c8331c9d3be",
   "metadata": {},
   "source": [
    "EDA"
   ]
  },
  {
   "cell_type": "code",
   "execution_count": 8,
   "id": "c5b22d8b-b9af-42a3-ab50-cacec9bf0349",
   "metadata": {},
   "outputs": [
    {
     "data": {
      "text/plain": [
       "<matplotlib.axes._subplots.AxesSubplot at 0x237ff8bdc48>"
      ]
     },
     "execution_count": 8,
     "metadata": {},
     "output_type": "execute_result"
    },
    {
     "data": {
      "image/png": "[encoded data removed]",
      "text/plain": [
       "<Figure size 432x288 with 1 Axes>"
      ]
     },
     "metadata": {
      "needs_background": "light"
     },
     "output_type": "display_data"
    }
   ],
   "source": [
    "sns.countplot(x='gender',data=df)"
   ]
  },
  {
   "cell_type": "code",
   "execution_count": 9,
   "id": "d6eb032d-37d3-474f-a549-a7d83ec03416",
   "metadata": {},
   "outputs": [
    {
     "data": {
      "text/plain": [
       "<matplotlib.axes._subplots.AxesSubplot at 0x237ff990048>"
      ]
     },
     "execution_count": 9,
     "metadata": {},
     "output_type": "execute_result"
    },
    {
     "data": {
      "image/png": "[encoded data removed]",
      "text/plain": [
       "<Figure size 432x288 with 1 Axes>"
      ]
     },
     "metadata": {
      "needs_background": "light"
     },
     "output_type": "display_data"
    }
   ],
   "source": [
    "sns.countplot(x='stroke',data=df,hue='gender')\n",
    "#since data is not well balanced between male and female population, it shows females are higher in both getting a stroke and note"
   ]
  },
  {
   "cell_type": "code",
   "execution_count": 10,
   "id": "84f598c9-d3ba-4ba3-b1ce-783a57a8baab",
   "metadata": {},
   "outputs": [
    {
     "data": {
      "text/plain": [
       "<matplotlib.axes._subplots.AxesSubplot at 0x237ff9f92c8>"
      ]
     },
     "execution_count": 10,
     "metadata": {},
     "output_type": "execute_result"
    },
    {
     "data": {
      "image/png": "[encoded data removed]",
      "text/plain": [
       "<Figure size 432x288 with 1 Axes>"
      ]
     },
     "metadata": {
      "needs_background": "light"
     },
     "output_type": "display_data"
    }
   ],
   "source": [
    "sns.countplot(x='smoking_status',data=df,)\n"
   ]
  },
  {
   "cell_type": "code",
   "execution_count": 11,
   "id": "c2787409-412d-4044-8672-21ae4c56fcb2",
   "metadata": {},
   "outputs": [
    {
     "data": {
      "text/plain": [
       "<matplotlib.axes._subplots.AxesSubplot at 0x237ffa81848>"
      ]
     },
     "execution_count": 11,
     "metadata": {},
     "output_type": "execute_result"
    },
    {
     "data": {
      "image/png": "[encoded data removed]",
      "text/plain": [
       "<Figure size 432x288 with 1 Axes>"
      ]
     },
     "metadata": {
      "needs_background": "light"
     },
     "output_type": "display_data"
    }
   ],
   "source": [
    "sns.countplot(x='stroke',data=df,hue='smoking_status')\n"
   ]
  },
  {
   "cell_type": "code",
   "execution_count": 12,
   "id": "4d592f3c-29b4-406f-a785-12f54b3ace42",
   "metadata": {},
   "outputs": [],
   "source": [
    "#since count of never smoked is high so we assume unknown people will be also be maximum of never smoked category.\n",
    "df['smoking_status'].replace('Unknown','never smoked',inplace=True)"
   ]
  },
  {
   "cell_type": "code",
   "execution_count": 13,
   "id": "f172eaa9-eb5c-442d-aeaf-4e7e6a88c742",
   "metadata": {},
   "outputs": [
    {
     "data": {
      "text/plain": [
       "<matplotlib.axes._subplots.AxesSubplot at 0x237ffb087c8>"
      ]
     },
     "execution_count": 13,
     "metadata": {},
     "output_type": "execute_result"
    },
    {
     "data": {
      "image/png": "[encoded data removed]",
      "text/plain": [
       "<Figure size 432x288 with 1 Axes>"
      ]
     },
     "metadata": {
      "needs_background": "light"
     },
     "output_type": "display_data"
    }
   ],
   "source": [
    "sns.countplot(x='smoking_status',data=df,)\n"
   ]
  },
  {
   "cell_type": "code",
   "execution_count": 14,
   "id": "76f4122e-b486-4113-8443-00a2beecb6d4",
   "metadata": {},
   "outputs": [
    {
     "data": {
      "text/plain": [
       "<seaborn.axisgrid.PairGrid at 0x237ffb55cc8>"
      ]
     },
     "execution_count": 14,
     "metadata": {},
     "output_type": "execute_result"
    },
    {
     "data": {
      "image/png": "[encoded data removed]",
      "text/plain": [
       "<Figure size 1260x1260 with 56 Axes>"
      ]
     },
     "metadata": {
      "needs_background": "light"
     },
     "output_type": "display_data"
    }
   ],
   "source": [
    "sns.pairplot(df)"
   ]
  },
  {
   "cell_type": "code",
   "execution_count": 15,
   "id": "150bfeba-28e4-464a-9d6d-bc7e7ff3d99c",
   "metadata": {},
   "outputs": [
    {
     "data": {
      "text/plain": [
       "Index(['id', 'gender', 'age', 'hypertension', 'heart_disease', 'ever_married',\n",
       "       'work_type', 'Residence_type', 'avg_glucose_level', 'bmi',\n",
       "       'smoking_status', 'stroke'],\n",
       "      dtype='object')"
      ]
     },
     "execution_count": 15,
     "metadata": {},
     "output_type": "execute_result"
    }
   ],
   "source": [
    "df.columns"
   ]
  },
  {
   "cell_type": "code",
   "execution_count": 16,
   "id": "1e83335f-5ec7-4471-a131-835e8e55696a",
   "metadata": {},
   "outputs": [
    {
     "data": {
      "text/plain": [
       "<matplotlib.axes._subplots.AxesSubplot at 0x23802762a48>"
      ]
     },
     "execution_count": 16,
     "metadata": {},
     "output_type": "execute_result"
    },
    {
     "data": {
      "image/png": "[encoded data removed]",
      "text/plain": [
       "<Figure size 432x288 with 1 Axes>"
      ]
     },
     "metadata": {
      "needs_background": "light"
     },
     "output_type": "display_data"
    }
   ],
   "source": [
    "sns.countplot(x='stroke',data=df,hue='ever_married')\n"
   ]
  },
  {
   "cell_type": "code",
   "execution_count": 17,
   "id": "e3bf6153-3f43-4fc0-bad6-4266488fd4c1",
   "metadata": {},
   "outputs": [
    {
     "data": {
      "text/plain": [
       "<matplotlib.axes._subplots.AxesSubplot at 0x23802da8c48>"
      ]
     },
     "execution_count": 17,
     "metadata": {},
     "output_type": "execute_result"
    },
    {
     "data": {
      "image/png": "[encoded data removed]",
      "text/plain": [
       "<Figure size 432x288 with 1 Axes>"
      ]
     },
     "metadata": {
      "needs_background": "light"
     },
     "output_type": "display_data"
    }
   ],
   "source": [
    "sns.distplot(a=df['age'],bins=40)"
   ]
  },
  {
   "cell_type": "code",
   "execution_count": 18,
   "id": "7ab3c7d9-87c1-44af-9d94-499fbe6db61e",
   "metadata": {},
   "outputs": [
    {
     "data": {
      "text/plain": [
       "<matplotlib.axes._subplots.AxesSubplot at 0x23804e6acc8>"
      ]
     },
     "execution_count": 18,
     "metadata": {},
     "output_type": "execute_result"
    },
    {
     "data": {
      "image/png": "[encoded data removed]",
      "text/plain": [
       "<Figure size 432x288 with 1 Axes>"
      ]
     },
     "metadata": {
      "needs_background": "light"
     },
     "output_type": "display_data"
    }
   ],
   "source": [
    "sns.boxplot(x='age',data=df)\n"
   ]
  },
  {
   "cell_type": "markdown",
   "id": "51b9353d-0beb-4121-9876-8f0ebacf2659",
   "metadata": {},
   "source": [
    "Data Preprocessing"
   ]
  },
  {
   "cell_type": "code",
   "execution_count": 19,
   "id": "4ba5073f-b0e8-4485-83a4-272c025a9455",
   "metadata": {},
   "outputs": [
    {
     "data": {
      "text/plain": [
       "201"
      ]
     },
     "execution_count": 19,
     "metadata": {},
     "output_type": "execute_result"
    }
   ],
   "source": [
    "#handing missing data of bmi column\n",
    "df.bmi.isnull().sum()"
   ]
  },
  {
   "cell_type": "code",
   "execution_count": 20,
   "id": "a9f99aba-0901-4384-a9e9-410862cd404b",
   "metadata": {},
   "outputs": [
    {
     "data": {
      "text/plain": [
       "(5110, 12)"
      ]
     },
     "execution_count": 20,
     "metadata": {},
     "output_type": "execute_result"
    }
   ],
   "source": [
    "df.shape"
   ]
  },
  {
   "cell_type": "code",
   "execution_count": 21,
   "id": "a21563b1-e43f-4093-9132-089131c9e46c",
   "metadata": {},
   "outputs": [
    {
     "data": {
      "text/plain": [
       "3.9334637964774952"
      ]
     },
     "execution_count": 21,
     "metadata": {},
     "output_type": "execute_result"
    }
   ],
   "source": [
    "201/5110 * 100"
   ]
  },
  {
   "cell_type": "code",
   "execution_count": 22,
   "id": "f7983263-45d6-45ef-887a-119aff59f91b",
   "metadata": {},
   "outputs": [
    {
     "data": {
      "text/plain": [
       "count    4909.000000\n",
       "mean       28.893237\n",
       "std         7.854067\n",
       "min        10.300000\n",
       "25%        23.500000\n",
       "50%        28.100000\n",
       "75%        33.100000\n",
       "max        97.600000\n",
       "Name: bmi, dtype: float64"
      ]
     },
     "execution_count": 22,
     "metadata": {},
     "output_type": "execute_result"
    }
   ],
   "source": [
    "df['bmi'].describe()"
   ]
  },
  {
   "cell_type": "code",
   "execution_count": 23,
   "id": "348a2eb9-1819-4559-8407-3c121b53c45b",
   "metadata": {},
   "outputs": [],
   "source": [
    "#Only 3.93% of total data is missing so we are allowed to drop these features, but for now we fill missing nan value\n",
    "df['bmi'].fillna(value = df['bmi'].mean(),inplace=True)"
   ]
  },
  {
   "cell_type": "code",
   "execution_count": 24,
   "id": "c6fc09f5-93cc-4a3e-9f50-d262fd9bca60",
   "metadata": {},
   "outputs": [
    {
     "data": {
      "text/plain": [
       "id                   0\n",
       "gender               0\n",
       "age                  0\n",
       "hypertension         0\n",
       "heart_disease        0\n",
       "ever_married         0\n",
       "work_type            0\n",
       "Residence_type       0\n",
       "avg_glucose_level    0\n",
       "bmi                  0\n",
       "smoking_status       0\n",
       "stroke               0\n",
       "dtype: int64"
      ]
     },
     "execution_count": 24,
     "metadata": {},
     "output_type": "execute_result"
    }
   ],
   "source": [
    "df.isnull().sum()"
   ]
  },
  {
   "cell_type": "code",
   "execution_count": 25,
   "id": "01c70db1-e0fe-4558-af04-55d32b24a76d",
   "metadata": {},
   "outputs": [],
   "source": [
    "df.drop('id',axis=1,inplace=True)"
   ]
  },
  {
   "cell_type": "code",
   "execution_count": 26,
   "id": "ebbbd6cd-d25b-42ed-9b2c-918f34e298a2",
   "metadata": {},
   "outputs": [
    {
     "data": {
      "text/html": [
       "<div>\n",
       "<style scoped>\n",
       "    .dataframe tbody tr th:only-of-type {\n",
       "        vertical-align: middle;\n",
       "    }\n",
       "\n",
       "    .dataframe tbody tr th {\n",
       "        vertical-align: top;\n",
       "    }\n",
       "\n",
       "    .dataframe thead th {\n",
       "        text-align: right;\n",
       "    }\n",
       "</style>\n",
       "<table border=\"1\" class=\"dataframe\">\n",
       "  <thead>\n",
       "    <tr style=\"text-align: right;\">\n",
       "      <th></th>\n",
       "      <th>gender</th>\n",
       "      <th>age</th>\n",
       "      <th>hypertension</th>\n",
       "      <th>heart_disease</th>\n",
       "      <th>ever_married</th>\n",
       "      <th>work_type</th>\n",
       "      <th>Residence_type</th>\n",
       "      <th>avg_glucose_level</th>\n",
       "      <th>bmi</th>\n",
       "      <th>smoking_status</th>\n",
       "      <th>stroke</th>\n",
       "    </tr>\n",
       "  </thead>\n",
       "  <tbody>\n",
       "    <tr>\n",
       "      <th>0</th>\n",
       "      <td>Male</td>\n",
       "      <td>67.0</td>\n",
       "      <td>0</td>\n",
       "      <td>1</td>\n",
       "      <td>Yes</td>\n",
       "      <td>Private</td>\n",
       "      <td>Urban</td>\n",
       "      <td>228.69</td>\n",
       "      <td>36.600000</td>\n",
       "      <td>formerly smoked</td>\n",
       "      <td>1</td>\n",
       "    </tr>\n",
       "    <tr>\n",
       "      <th>1</th>\n",
       "      <td>Female</td>\n",
       "      <td>61.0</td>\n",
       "      <td>0</td>\n",
       "      <td>0</td>\n",
       "      <td>Yes</td>\n",
       "      <td>Self-employed</td>\n",
       "      <td>Rural</td>\n",
       "      <td>202.21</td>\n",
       "      <td>28.893237</td>\n",
       "      <td>never smoked</td>\n",
       "      <td>1</td>\n",
       "    </tr>\n",
       "    <tr>\n",
       "      <th>2</th>\n",
       "      <td>Male</td>\n",
       "      <td>80.0</td>\n",
       "      <td>0</td>\n",
       "      <td>1</td>\n",
       "      <td>Yes</td>\n",
       "      <td>Private</td>\n",
       "      <td>Rural</td>\n",
       "      <td>105.92</td>\n",
       "      <td>32.500000</td>\n",
       "      <td>never smoked</td>\n",
       "      <td>1</td>\n",
       "    </tr>\n",
       "    <tr>\n",
       "      <th>3</th>\n",
       "      <td>Female</td>\n",
       "      <td>49.0</td>\n",
       "      <td>0</td>\n",
       "      <td>0</td>\n",
       "      <td>Yes</td>\n",
       "      <td>Private</td>\n",
       "      <td>Urban</td>\n",
       "      <td>171.23</td>\n",
       "      <td>34.400000</td>\n",
       "      <td>smokes</td>\n",
       "      <td>1</td>\n",
       "    </tr>\n",
       "    <tr>\n",
       "      <th>4</th>\n",
       "      <td>Female</td>\n",
       "      <td>79.0</td>\n",
       "      <td>1</td>\n",
       "      <td>0</td>\n",
       "      <td>Yes</td>\n",
       "      <td>Self-employed</td>\n",
       "      <td>Rural</td>\n",
       "      <td>174.12</td>\n",
       "      <td>24.000000</td>\n",
       "      <td>never smoked</td>\n",
       "      <td>1</td>\n",
       "    </tr>\n",
       "    <tr>\n",
       "      <th>...</th>\n",
       "      <td>...</td>\n",
       "      <td>...</td>\n",
       "      <td>...</td>\n",
       "      <td>...</td>\n",
       "      <td>...</td>\n",
       "      <td>...</td>\n",
       "      <td>...</td>\n",
       "      <td>...</td>\n",
       "      <td>...</td>\n",
       "      <td>...</td>\n",
       "      <td>...</td>\n",
       "    </tr>\n",
       "    <tr>\n",
       "      <th>5105</th>\n",
       "      <td>Female</td>\n",
       "      <td>80.0</td>\n",
       "      <td>1</td>\n",
       "      <td>0</td>\n",
       "      <td>Yes</td>\n",
       "      <td>Private</td>\n",
       "      <td>Urban</td>\n",
       "      <td>83.75</td>\n",
       "      <td>28.893237</td>\n",
       "      <td>never smoked</td>\n",
       "      <td>0</td>\n",
       "    </tr>\n",
       "    <tr>\n",
       "      <th>5106</th>\n",
       "      <td>Female</td>\n",
       "      <td>81.0</td>\n",
       "      <td>0</td>\n",
       "      <td>0</td>\n",
       "      <td>Yes</td>\n",
       "      <td>Self-employed</td>\n",
       "      <td>Urban</td>\n",
       "      <td>125.20</td>\n",
       "      <td>40.000000</td>\n",
       "      <td>never smoked</td>\n",
       "      <td>0</td>\n",
       "    </tr>\n",
       "    <tr>\n",
       "      <th>5107</th>\n",
       "      <td>Female</td>\n",
       "      <td>35.0</td>\n",
       "      <td>0</td>\n",
       "      <td>0</td>\n",
       "      <td>Yes</td>\n",
       "      <td>Self-employed</td>\n",
       "      <td>Rural</td>\n",
       "      <td>82.99</td>\n",
       "      <td>30.600000</td>\n",
       "      <td>never smoked</td>\n",
       "      <td>0</td>\n",
       "    </tr>\n",
       "    <tr>\n",
       "      <th>5108</th>\n",
       "      <td>Male</td>\n",
       "      <td>51.0</td>\n",
       "      <td>0</td>\n",
       "      <td>0</td>\n",
       "      <td>Yes</td>\n",
       "      <td>Private</td>\n",
       "      <td>Rural</td>\n",
       "      <td>166.29</td>\n",
       "      <td>25.600000</td>\n",
       "      <td>formerly smoked</td>\n",
       "      <td>0</td>\n",
       "    </tr>\n",
       "    <tr>\n",
       "      <th>5109</th>\n",
       "      <td>Female</td>\n",
       "      <td>44.0</td>\n",
       "      <td>0</td>\n",
       "      <td>0</td>\n",
       "      <td>Yes</td>\n",
       "      <td>Govt_job</td>\n",
       "      <td>Urban</td>\n",
       "      <td>85.28</td>\n",
       "      <td>26.200000</td>\n",
       "      <td>never smoked</td>\n",
       "      <td>0</td>\n",
       "    </tr>\n",
       "  </tbody>\n",
       "</table>\n",
       "<p>5110 rows × 11 columns</p>\n",
       "</div>"
      ],
      "text/plain": [
       "      gender   age  hypertension  heart_disease ever_married      work_type  \\\n",
       "0       Male  67.0             0              1          Yes        Private   \n",
       "1     Female  61.0             0              0          Yes  Self-employed   \n",
       "2       Male  80.0             0              1          Yes        Private   \n",
       "3     Female  49.0             0              0          Yes        Private   \n",
       "4     Female  79.0             1              0          Yes  Self-employed   \n",
       "...      ...   ...           ...            ...          ...            ...   \n",
       "5105  Female  80.0             1              0          Yes        Private   \n",
       "5106  Female  81.0             0              0          Yes  Self-employed   \n",
       "5107  Female  35.0             0              0          Yes  Self-employed   \n",
       "5108    Male  51.0             0              0          Yes        Private   \n",
       "5109  Female  44.0             0              0          Yes       Govt_job   \n",
       "\n",
       "     Residence_type  avg_glucose_level        bmi   smoking_status  stroke  \n",
       "0             Urban             228.69  36.600000  formerly smoked       1  \n",
       "1             Rural             202.21  28.893237     never smoked       1  \n",
       "2             Rural             105.92  32.500000     never smoked       1  \n",
       "3             Urban             171.23  34.400000           smokes       1  \n",
       "4             Rural             174.12  24.000000     never smoked       1  \n",
       "...             ...                ...        ...              ...     ...  \n",
       "5105          Urban              83.75  28.893237     never smoked       0  \n",
       "5106          Urban             125.20  40.000000     never smoked       0  \n",
       "5107          Rural              82.99  30.600000     never smoked       0  \n",
       "5108          Rural             166.29  25.600000  formerly smoked       0  \n",
       "5109          Urban              85.28  26.200000     never smoked       0  \n",
       "\n",
       "[5110 rows x 11 columns]"
      ]
     },
     "execution_count": 26,
     "metadata": {},
     "output_type": "execute_result"
    }
   ],
   "source": [
    "df"
   ]
  },
  {
   "cell_type": "code",
   "execution_count": 27,
   "id": "cde49c3a-e14c-4b04-8aaa-c58ac62fa972",
   "metadata": {},
   "outputs": [
    {
     "data": {
      "text/plain": [
       "<matplotlib.axes._subplots.AxesSubplot at 0x23804ef0748>"
      ]
     },
     "execution_count": 27,
     "metadata": {},
     "output_type": "execute_result"
    },
    {
     "data": {
      "image/png": "[encoded data removed]",
      "text/plain": [
       "<Figure size 720x360 with 1 Axes>"
      ]
     },
     "metadata": {
      "needs_background": "light"
     },
     "output_type": "display_data"
    }
   ],
   "source": [
    "#outliers\n",
    "df.plot(kind = 'box',figsize=(10,5))\n",
    "#black circle are outliers"
   ]
  },
  {
   "cell_type": "code",
   "execution_count": 28,
   "id": "01884f48-01c0-4716-8d46-c800fa3eb64f",
   "metadata": {},
   "outputs": [
    {
     "data": {
      "text/plain": [
       "count    5110.000000\n",
       "mean      106.147677\n",
       "std        45.283560\n",
       "min        55.120000\n",
       "25%        77.245000\n",
       "50%        91.885000\n",
       "75%       114.090000\n",
       "max       271.740000\n",
       "Name: avg_glucose_level, dtype: float64"
      ]
     },
     "execution_count": 28,
     "metadata": {},
     "output_type": "execute_result"
    }
   ],
   "source": [
    "df['avg_glucose_level'].describe()"
   ]
  },
  {
   "cell_type": "code",
   "execution_count": 29,
   "id": "41929011-62b4-4521-8481-bfaa5b2b1c17",
   "metadata": {},
   "outputs": [
    {
     "data": {
      "text/html": [
       "<div>\n",
       "<style scoped>\n",
       "    .dataframe tbody tr th:only-of-type {\n",
       "        vertical-align: middle;\n",
       "    }\n",
       "\n",
       "    .dataframe tbody tr th {\n",
       "        vertical-align: top;\n",
       "    }\n",
       "\n",
       "    .dataframe thead th {\n",
       "        text-align: right;\n",
       "    }\n",
       "</style>\n",
       "<table border=\"1\" class=\"dataframe\">\n",
       "  <thead>\n",
       "    <tr style=\"text-align: right;\">\n",
       "      <th></th>\n",
       "      <th>gender</th>\n",
       "      <th>ever_married</th>\n",
       "      <th>work_type</th>\n",
       "      <th>Residence_type</th>\n",
       "      <th>smoking_status</th>\n",
       "    </tr>\n",
       "  </thead>\n",
       "  <tbody>\n",
       "    <tr>\n",
       "      <th>0</th>\n",
       "      <td>Male</td>\n",
       "      <td>Yes</td>\n",
       "      <td>Private</td>\n",
       "      <td>Urban</td>\n",
       "      <td>formerly smoked</td>\n",
       "    </tr>\n",
       "    <tr>\n",
       "      <th>1</th>\n",
       "      <td>Female</td>\n",
       "      <td>Yes</td>\n",
       "      <td>Self-employed</td>\n",
       "      <td>Rural</td>\n",
       "      <td>never smoked</td>\n",
       "    </tr>\n",
       "    <tr>\n",
       "      <th>2</th>\n",
       "      <td>Male</td>\n",
       "      <td>Yes</td>\n",
       "      <td>Private</td>\n",
       "      <td>Rural</td>\n",
       "      <td>never smoked</td>\n",
       "    </tr>\n",
       "    <tr>\n",
       "      <th>3</th>\n",
       "      <td>Female</td>\n",
       "      <td>Yes</td>\n",
       "      <td>Private</td>\n",
       "      <td>Urban</td>\n",
       "      <td>smokes</td>\n",
       "    </tr>\n",
       "    <tr>\n",
       "      <th>4</th>\n",
       "      <td>Female</td>\n",
       "      <td>Yes</td>\n",
       "      <td>Self-employed</td>\n",
       "      <td>Rural</td>\n",
       "      <td>never smoked</td>\n",
       "    </tr>\n",
       "    <tr>\n",
       "      <th>...</th>\n",
       "      <td>...</td>\n",
       "      <td>...</td>\n",
       "      <td>...</td>\n",
       "      <td>...</td>\n",
       "      <td>...</td>\n",
       "    </tr>\n",
       "    <tr>\n",
       "      <th>5105</th>\n",
       "      <td>Female</td>\n",
       "      <td>Yes</td>\n",
       "      <td>Private</td>\n",
       "      <td>Urban</td>\n",
       "      <td>never smoked</td>\n",
       "    </tr>\n",
       "    <tr>\n",
       "      <th>5106</th>\n",
       "      <td>Female</td>\n",
       "      <td>Yes</td>\n",
       "      <td>Self-employed</td>\n",
       "      <td>Urban</td>\n",
       "      <td>never smoked</td>\n",
       "    </tr>\n",
       "    <tr>\n",
       "      <th>5107</th>\n",
       "      <td>Female</td>\n",
       "      <td>Yes</td>\n",
       "      <td>Self-employed</td>\n",
       "      <td>Rural</td>\n",
       "      <td>never smoked</td>\n",
       "    </tr>\n",
       "    <tr>\n",
       "      <th>5108</th>\n",
       "      <td>Male</td>\n",
       "      <td>Yes</td>\n",
       "      <td>Private</td>\n",
       "      <td>Rural</td>\n",
       "      <td>formerly smoked</td>\n",
       "    </tr>\n",
       "    <tr>\n",
       "      <th>5109</th>\n",
       "      <td>Female</td>\n",
       "      <td>Yes</td>\n",
       "      <td>Govt_job</td>\n",
       "      <td>Urban</td>\n",
       "      <td>never smoked</td>\n",
       "    </tr>\n",
       "  </tbody>\n",
       "</table>\n",
       "<p>5110 rows × 5 columns</p>\n",
       "</div>"
      ],
      "text/plain": [
       "      gender ever_married      work_type Residence_type   smoking_status\n",
       "0       Male          Yes        Private          Urban  formerly smoked\n",
       "1     Female          Yes  Self-employed          Rural     never smoked\n",
       "2       Male          Yes        Private          Rural     never smoked\n",
       "3     Female          Yes        Private          Urban           smokes\n",
       "4     Female          Yes  Self-employed          Rural     never smoked\n",
       "...      ...          ...            ...            ...              ...\n",
       "5105  Female          Yes        Private          Urban     never smoked\n",
       "5106  Female          Yes  Self-employed          Urban     never smoked\n",
       "5107  Female          Yes  Self-employed          Rural     never smoked\n",
       "5108    Male          Yes        Private          Rural  formerly smoked\n",
       "5109  Female          Yes       Govt_job          Urban     never smoked\n",
       "\n",
       "[5110 rows x 5 columns]"
      ]
     },
     "execution_count": 29,
     "metadata": {},
     "output_type": "execute_result"
    }
   ],
   "source": [
    "df.select_dtypes(include='object')"
   ]
  },
  {
   "cell_type": "code",
   "execution_count": 30,
   "id": "b1bf715a-657d-4f47-ad7c-5ceac03bdf9c",
   "metadata": {},
   "outputs": [],
   "source": [
    "#Label Encoding\n",
    "from sklearn.preprocessing import LabelEncoder\n",
    "le = LabelEncoder()"
   ]
  },
  {
   "cell_type": "code",
   "execution_count": 31,
   "id": "1a1e43b3-4615-4373-9671-d4fb0f506f1b",
   "metadata": {},
   "outputs": [
    {
     "data": {
      "text/plain": [
       "['Female', 'Male', 'Other']"
      ]
     },
     "execution_count": 31,
     "metadata": {},
     "output_type": "execute_result"
    }
   ],
   "source": [
    "#these value are important to known about the index postion after label encoding\n",
    "#like female will be 0, male will be 1 and other will be 2 after label encoding\n",
    "sorted(df['gender'].unique())"
   ]
  },
  {
   "cell_type": "code",
   "execution_count": 32,
   "id": "a3f5262b-6802-4391-bd01-a6f04d464f3d",
   "metadata": {},
   "outputs": [
    {
     "data": {
      "text/plain": [
       "['No', 'Yes']"
      ]
     },
     "execution_count": 32,
     "metadata": {},
     "output_type": "execute_result"
    }
   ],
   "source": [
    "sorted(df['ever_married'].unique())"
   ]
  },
  {
   "cell_type": "code",
   "execution_count": 33,
   "id": "778d7f21-8469-484a-b216-e0d4d40b9acd",
   "metadata": {},
   "outputs": [
    {
     "data": {
      "text/plain": [
       "['Govt_job', 'Never_worked', 'Private', 'Self-employed', 'children']"
      ]
     },
     "execution_count": 33,
     "metadata": {},
     "output_type": "execute_result"
    }
   ],
   "source": [
    "sorted(df['work_type'].unique())"
   ]
  },
  {
   "cell_type": "code",
   "execution_count": 34,
   "id": "69d021cc-c605-4ebb-8c5b-7a8551dc15f5",
   "metadata": {},
   "outputs": [
    {
     "data": {
      "text/plain": [
       "['Rural', 'Urban']"
      ]
     },
     "execution_count": 34,
     "metadata": {},
     "output_type": "execute_result"
    }
   ],
   "source": [
    "sorted(df['Residence_type'].unique())"
   ]
  },
  {
   "cell_type": "code",
   "execution_count": 35,
   "id": "439e3783-1731-47b0-98dc-ebf2f2f80d38",
   "metadata": {},
   "outputs": [
    {
     "data": {
      "text/plain": [
       "['formerly smoked', 'never smoked', 'smokes']"
      ]
     },
     "execution_count": 35,
     "metadata": {},
     "output_type": "execute_result"
    }
   ],
   "source": [
    "sorted(df['smoking_status'].unique())"
   ]
  },
  {
   "cell_type": "code",
   "execution_count": 36,
   "id": "7d83ffe7-b4ab-4520-994c-eed0ba33d4b0",
   "metadata": {},
   "outputs": [],
   "source": [
    "df['gender'] = le.fit_transform(df['gender'])\n",
    "df['ever_married'] = le.fit_transform(df['ever_married'])\n",
    "df['work_type'] = le.fit_transform(df['work_type'])\n",
    "df['Residence_type'] = le.fit_transform(df['Residence_type'])\n",
    "df['smoking_status'] = le.fit_transform(df['smoking_status'])"
   ]
  },
  {
   "cell_type": "code",
   "execution_count": 37,
   "id": "83444cd1-b2cb-40b8-a600-f0c7b50826aa",
   "metadata": {},
   "outputs": [
    {
     "data": {
      "text/html": [
       "<div>\n",
       "<style scoped>\n",
       "    .dataframe tbody tr th:only-of-type {\n",
       "        vertical-align: middle;\n",
       "    }\n",
       "\n",
       "    .dataframe tbody tr th {\n",
       "        vertical-align: top;\n",
       "    }\n",
       "\n",
       "    .dataframe thead th {\n",
       "        text-align: right;\n",
       "    }\n",
       "</style>\n",
       "<table border=\"1\" class=\"dataframe\">\n",
       "  <thead>\n",
       "    <tr style=\"text-align: right;\">\n",
       "      <th></th>\n",
       "      <th>gender</th>\n",
       "      <th>age</th>\n",
       "      <th>hypertension</th>\n",
       "      <th>heart_disease</th>\n",
       "      <th>ever_married</th>\n",
       "      <th>work_type</th>\n",
       "      <th>Residence_type</th>\n",
       "      <th>avg_glucose_level</th>\n",
       "      <th>bmi</th>\n",
       "      <th>smoking_status</th>\n",
       "      <th>stroke</th>\n",
       "    </tr>\n",
       "  </thead>\n",
       "  <tbody>\n",
       "    <tr>\n",
       "      <th>0</th>\n",
       "      <td>1</td>\n",
       "      <td>67.0</td>\n",
       "      <td>0</td>\n",
       "      <td>1</td>\n",
       "      <td>1</td>\n",
       "      <td>2</td>\n",
       "      <td>1</td>\n",
       "      <td>228.69</td>\n",
       "      <td>36.600000</td>\n",
       "      <td>0</td>\n",
       "      <td>1</td>\n",
       "    </tr>\n",
       "    <tr>\n",
       "      <th>1</th>\n",
       "      <td>0</td>\n",
       "      <td>61.0</td>\n",
       "      <td>0</td>\n",
       "      <td>0</td>\n",
       "      <td>1</td>\n",
       "      <td>3</td>\n",
       "      <td>0</td>\n",
       "      <td>202.21</td>\n",
       "      <td>28.893237</td>\n",
       "      <td>1</td>\n",
       "      <td>1</td>\n",
       "    </tr>\n",
       "    <tr>\n",
       "      <th>2</th>\n",
       "      <td>1</td>\n",
       "      <td>80.0</td>\n",
       "      <td>0</td>\n",
       "      <td>1</td>\n",
       "      <td>1</td>\n",
       "      <td>2</td>\n",
       "      <td>0</td>\n",
       "      <td>105.92</td>\n",
       "      <td>32.500000</td>\n",
       "      <td>1</td>\n",
       "      <td>1</td>\n",
       "    </tr>\n",
       "    <tr>\n",
       "      <th>3</th>\n",
       "      <td>0</td>\n",
       "      <td>49.0</td>\n",
       "      <td>0</td>\n",
       "      <td>0</td>\n",
       "      <td>1</td>\n",
       "      <td>2</td>\n",
       "      <td>1</td>\n",
       "      <td>171.23</td>\n",
       "      <td>34.400000</td>\n",
       "      <td>2</td>\n",
       "      <td>1</td>\n",
       "    </tr>\n",
       "    <tr>\n",
       "      <th>4</th>\n",
       "      <td>0</td>\n",
       "      <td>79.0</td>\n",
       "      <td>1</td>\n",
       "      <td>0</td>\n",
       "      <td>1</td>\n",
       "      <td>3</td>\n",
       "      <td>0</td>\n",
       "      <td>174.12</td>\n",
       "      <td>24.000000</td>\n",
       "      <td>1</td>\n",
       "      <td>1</td>\n",
       "    </tr>\n",
       "  </tbody>\n",
       "</table>\n",
       "</div>"
      ],
      "text/plain": [
       "   gender   age  hypertension  heart_disease  ever_married  work_type  \\\n",
       "0       1  67.0             0              1             1          2   \n",
       "1       0  61.0             0              0             1          3   \n",
       "2       1  80.0             0              1             1          2   \n",
       "3       0  49.0             0              0             1          2   \n",
       "4       0  79.0             1              0             1          3   \n",
       "\n",
       "   Residence_type  avg_glucose_level        bmi  smoking_status  stroke  \n",
       "0               1             228.69  36.600000               0       1  \n",
       "1               0             202.21  28.893237               1       1  \n",
       "2               0             105.92  32.500000               1       1  \n",
       "3               1             171.23  34.400000               2       1  \n",
       "4               0             174.12  24.000000               1       1  "
      ]
     },
     "execution_count": 37,
     "metadata": {},
     "output_type": "execute_result"
    }
   ],
   "source": [
    "df.head()"
   ]
  },
  {
   "cell_type": "code",
   "execution_count": 38,
   "id": "0c875e32-33ed-470f-8331-72632834f14e",
   "metadata": {},
   "outputs": [
    {
     "name": "stdout",
     "output_type": "stream",
     "text": [
      "<class 'pandas.core.frame.DataFrame'>\n",
      "RangeIndex: 5110 entries, 0 to 5109\n",
      "Data columns (total 11 columns):\n",
      "gender               5110 non-null int32\n",
      "age                  5110 non-null float64\n",
      "hypertension         5110 non-null int64\n",
      "heart_disease        5110 non-null int64\n",
      "ever_married         5110 non-null int32\n",
      "work_type            5110 non-null int32\n",
      "Residence_type       5110 non-null int32\n",
      "avg_glucose_level    5110 non-null float64\n",
      "bmi                  5110 non-null float64\n",
      "smoking_status       5110 non-null int32\n",
      "stroke               5110 non-null int64\n",
      "dtypes: float64(3), int32(5), int64(3)\n",
      "memory usage: 339.5 KB\n"
     ]
    }
   ],
   "source": [
    "df.info()"
   ]
  },
  {
   "cell_type": "code",
   "execution_count": 39,
   "id": "3271da1b-b86b-4f74-a38f-147f6d8514b5",
   "metadata": {},
   "outputs": [],
   "source": [
    "from sklearn.model_selection import train_test_split\n",
    "\n",
    "X = df.drop('stroke',axis=1)\n",
    "y= df['stroke']"
   ]
  },
  {
   "cell_type": "code",
   "execution_count": 40,
   "id": "a90e7ff6-46ac-466e-84b7-5314de41517b",
   "metadata": {},
   "outputs": [
    {
     "data": {
      "text/html": [
       "<div>\n",
       "<style scoped>\n",
       "    .dataframe tbody tr th:only-of-type {\n",
       "        vertical-align: middle;\n",
       "    }\n",
       "\n",
       "    .dataframe tbody tr th {\n",
       "        vertical-align: top;\n",
       "    }\n",
       "\n",
       "    .dataframe thead th {\n",
       "        text-align: right;\n",
       "    }\n",
       "</style>\n",
       "<table border=\"1\" class=\"dataframe\">\n",
       "  <thead>\n",
       "    <tr style=\"text-align: right;\">\n",
       "      <th></th>\n",
       "      <th>gender</th>\n",
       "      <th>age</th>\n",
       "      <th>hypertension</th>\n",
       "      <th>heart_disease</th>\n",
       "      <th>ever_married</th>\n",
       "      <th>work_type</th>\n",
       "      <th>Residence_type</th>\n",
       "      <th>avg_glucose_level</th>\n",
       "      <th>bmi</th>\n",
       "      <th>smoking_status</th>\n",
       "    </tr>\n",
       "  </thead>\n",
       "  <tbody>\n",
       "    <tr>\n",
       "      <th>0</th>\n",
       "      <td>1</td>\n",
       "      <td>67.0</td>\n",
       "      <td>0</td>\n",
       "      <td>1</td>\n",
       "      <td>1</td>\n",
       "      <td>2</td>\n",
       "      <td>1</td>\n",
       "      <td>228.69</td>\n",
       "      <td>36.600000</td>\n",
       "      <td>0</td>\n",
       "    </tr>\n",
       "    <tr>\n",
       "      <th>1</th>\n",
       "      <td>0</td>\n",
       "      <td>61.0</td>\n",
       "      <td>0</td>\n",
       "      <td>0</td>\n",
       "      <td>1</td>\n",
       "      <td>3</td>\n",
       "      <td>0</td>\n",
       "      <td>202.21</td>\n",
       "      <td>28.893237</td>\n",
       "      <td>1</td>\n",
       "    </tr>\n",
       "    <tr>\n",
       "      <th>2</th>\n",
       "      <td>1</td>\n",
       "      <td>80.0</td>\n",
       "      <td>0</td>\n",
       "      <td>1</td>\n",
       "      <td>1</td>\n",
       "      <td>2</td>\n",
       "      <td>0</td>\n",
       "      <td>105.92</td>\n",
       "      <td>32.500000</td>\n",
       "      <td>1</td>\n",
       "    </tr>\n",
       "    <tr>\n",
       "      <th>3</th>\n",
       "      <td>0</td>\n",
       "      <td>49.0</td>\n",
       "      <td>0</td>\n",
       "      <td>0</td>\n",
       "      <td>1</td>\n",
       "      <td>2</td>\n",
       "      <td>1</td>\n",
       "      <td>171.23</td>\n",
       "      <td>34.400000</td>\n",
       "      <td>2</td>\n",
       "    </tr>\n",
       "    <tr>\n",
       "      <th>4</th>\n",
       "      <td>0</td>\n",
       "      <td>79.0</td>\n",
       "      <td>1</td>\n",
       "      <td>0</td>\n",
       "      <td>1</td>\n",
       "      <td>3</td>\n",
       "      <td>0</td>\n",
       "      <td>174.12</td>\n",
       "      <td>24.000000</td>\n",
       "      <td>1</td>\n",
       "    </tr>\n",
       "    <tr>\n",
       "      <th>...</th>\n",
       "      <td>...</td>\n",
       "      <td>...</td>\n",
       "      <td>...</td>\n",
       "      <td>...</td>\n",
       "      <td>...</td>\n",
       "      <td>...</td>\n",
       "      <td>...</td>\n",
       "      <td>...</td>\n",
       "      <td>...</td>\n",
       "      <td>...</td>\n",
       "    </tr>\n",
       "    <tr>\n",
       "      <th>5105</th>\n",
       "      <td>0</td>\n",
       "      <td>80.0</td>\n",
       "      <td>1</td>\n",
       "      <td>0</td>\n",
       "      <td>1</td>\n",
       "      <td>2</td>\n",
       "      <td>1</td>\n",
       "      <td>83.75</td>\n",
       "      <td>28.893237</td>\n",
       "      <td>1</td>\n",
       "    </tr>\n",
       "    <tr>\n",
       "      <th>5106</th>\n",
       "      <td>0</td>\n",
       "      <td>81.0</td>\n",
       "      <td>0</td>\n",
       "      <td>0</td>\n",
       "      <td>1</td>\n",
       "      <td>3</td>\n",
       "      <td>1</td>\n",
       "      <td>125.20</td>\n",
       "      <td>40.000000</td>\n",
       "      <td>1</td>\n",
       "    </tr>\n",
       "    <tr>\n",
       "      <th>5107</th>\n",
       "      <td>0</td>\n",
       "      <td>35.0</td>\n",
       "      <td>0</td>\n",
       "      <td>0</td>\n",
       "      <td>1</td>\n",
       "      <td>3</td>\n",
       "      <td>0</td>\n",
       "      <td>82.99</td>\n",
       "      <td>30.600000</td>\n",
       "      <td>1</td>\n",
       "    </tr>\n",
       "    <tr>\n",
       "      <th>5108</th>\n",
       "      <td>1</td>\n",
       "      <td>51.0</td>\n",
       "      <td>0</td>\n",
       "      <td>0</td>\n",
       "      <td>1</td>\n",
       "      <td>2</td>\n",
       "      <td>0</td>\n",
       "      <td>166.29</td>\n",
       "      <td>25.600000</td>\n",
       "      <td>0</td>\n",
       "    </tr>\n",
       "    <tr>\n",
       "      <th>5109</th>\n",
       "      <td>0</td>\n",
       "      <td>44.0</td>\n",
       "      <td>0</td>\n",
       "      <td>0</td>\n",
       "      <td>1</td>\n",
       "      <td>0</td>\n",
       "      <td>1</td>\n",
       "      <td>85.28</td>\n",
       "      <td>26.200000</td>\n",
       "      <td>1</td>\n",
       "    </tr>\n",
       "  </tbody>\n",
       "</table>\n",
       "<p>5110 rows × 10 columns</p>\n",
       "</div>"
      ],
      "text/plain": [
       "      gender   age  hypertension  heart_disease  ever_married  work_type  \\\n",
       "0          1  67.0             0              1             1          2   \n",
       "1          0  61.0             0              0             1          3   \n",
       "2          1  80.0             0              1             1          2   \n",
       "3          0  49.0             0              0             1          2   \n",
       "4          0  79.0             1              0             1          3   \n",
       "...      ...   ...           ...            ...           ...        ...   \n",
       "5105       0  80.0             1              0             1          2   \n",
       "5106       0  81.0             0              0             1          3   \n",
       "5107       0  35.0             0              0             1          3   \n",
       "5108       1  51.0             0              0             1          2   \n",
       "5109       0  44.0             0              0             1          0   \n",
       "\n",
       "      Residence_type  avg_glucose_level        bmi  smoking_status  \n",
       "0                  1             228.69  36.600000               0  \n",
       "1                  0             202.21  28.893237               1  \n",
       "2                  0             105.92  32.500000               1  \n",
       "3                  1             171.23  34.400000               2  \n",
       "4                  0             174.12  24.000000               1  \n",
       "...              ...                ...        ...             ...  \n",
       "5105               1              83.75  28.893237               1  \n",
       "5106               1             125.20  40.000000               1  \n",
       "5107               0              82.99  30.600000               1  \n",
       "5108               0             166.29  25.600000               0  \n",
       "5109               1              85.28  26.200000               1  \n",
       "\n",
       "[5110 rows x 10 columns]"
      ]
     },
     "execution_count": 40,
     "metadata": {},
     "output_type": "execute_result"
    }
   ],
   "source": [
    "X"
   ]
  },
  {
   "cell_type": "code",
   "execution_count": 97,
   "id": "5b3c4417-12f2-46fb-b36c-e77bff79605a",
   "metadata": {},
   "outputs": [],
   "source": [
    "#using ann\n",
    "from tensorflow.keras.models import Sequential\n",
    "from tensorflow.keras.layers import Dense, Dropout\n",
    "from tensorflow.keras.callbacks import EarlyStopping"
   ]
  },
  {
   "cell_type": "code",
   "execution_count": 71,
   "id": "906b338b-9f64-4425-b1b8-82bd138d65b5",
   "metadata": {},
   "outputs": [],
   "source": [
    "model = Sequential()\n"
   ]
  },
  {
   "cell_type": "code",
   "execution_count": 87,
   "id": "39ee0940-b7b4-4c75-8f92-d3ae4f7e3005",
   "metadata": {},
   "outputs": [],
   "source": [
    "model.add(Dense(10,activation='relu'))\n",
    "model.add(Dropout(0.2))\n",
    "\n",
    "model.add(Dense(40,activation='relu'))\n",
    "model.add(Dropout(0.2))\n",
    "\n",
    "model.add(Dense(40,activation='relu'))\n",
    "model.add(Dropout(0.2))\n",
    "\n",
    "model.add(Dense(10,activation='relu'))\n",
    "model.add(Dropout(0.2))\n",
    "\n",
    "model.add(Dense(1,activation='sigmoid'))\n",
    "\n",
    "model.compile(optimizer='adam',loss='binary_crossentropy')"
   ]
  },
  {
   "cell_type": "code",
   "execution_count": 88,
   "id": "bf64ea58-5d3e-4aa7-a21f-c06c85d53799",
   "metadata": {},
   "outputs": [],
   "source": [
    "early_stop = EarlyStopping(monitor='val_loss',patience=10,mode='min')"
   ]
  },
  {
   "cell_type": "code",
   "execution_count": 89,
   "id": "c6f659c1-820d-4688-8b3e-33cd2830b32f",
   "metadata": {},
   "outputs": [
    {
     "name": "stdout",
     "output_type": "stream",
     "text": [
      "Epoch 1/400\n",
      "112/112 [==============================] - ETA: 0s - loss: 0.439 - 1s 3ms/step - loss: 0.3740 - val_loss: 0.1881\n",
      "Epoch 2/400\n",
      "112/112 [==============================] - 0s 2ms/step - loss: 0.2190 - val_loss: 0.1911\n",
      "Epoch 3/400\n",
      "112/112 [==============================] - 0s 2ms/step - loss: 0.2141 - val_loss: 0.1877\n",
      "Epoch 4/400\n",
      "112/112 [==============================] - 0s 2ms/step - loss: 0.2101 - val_loss: 0.1890\n",
      "Epoch 5/400\n",
      "112/112 [==============================] - 0s 2ms/step - loss: 0.2109 - val_loss: 0.1888\n",
      "Epoch 6/400\n",
      "112/112 [==============================] - 0s 2ms/step - loss: 0.2136 - val_loss: 0.1884\n",
      "Epoch 7/400\n",
      "112/112 [==============================] - 0s 2ms/step - loss: 0.2116 - val_loss: 0.1884\n",
      "Epoch 8/400\n",
      "112/112 [==============================] - 0s 2ms/step - loss: 0.2094 - val_loss: 0.1907\n",
      "Epoch 9/400\n",
      "112/112 [==============================] - 0s 2ms/step - loss: 0.2086 - val_loss: 0.1880\n",
      "Epoch 10/400\n",
      "112/112 [==============================] - 0s 2ms/step - loss: 0.2119 - val_loss: 0.1874\n",
      "Epoch 11/400\n",
      "112/112 [==============================] - 0s 2ms/step - loss: 0.2100 - val_loss: 0.1858\n",
      "Epoch 12/400\n",
      "112/112 [==============================] - 0s 2ms/step - loss: 0.2039 - val_loss: 0.1814\n",
      "Epoch 13/400\n",
      "112/112 [==============================] - 0s 2ms/step - loss: 0.2035 - val_loss: 0.1759\n",
      "Epoch 14/400\n",
      "112/112 [==============================] - 0s 2ms/step - loss: 0.1980 - val_loss: 0.1862\n",
      "Epoch 15/400\n",
      "112/112 [==============================] - 0s 2ms/step - loss: 0.1945 - val_loss: 0.1676\n",
      "Epoch 16/400\n",
      "112/112 [==============================] - 0s 2ms/step - loss: 0.1921 - val_loss: 0.1699\n",
      "Epoch 17/400\n",
      "112/112 [==============================] - 0s 2ms/step - loss: 0.1897 - val_loss: 0.1640\n",
      "Epoch 18/400\n",
      "112/112 [==============================] - 0s 2ms/step - loss: 0.1902 - val_loss: 0.1641\n",
      "Epoch 19/400\n",
      "112/112 [==============================] - 0s 2ms/step - loss: 0.1934 - val_loss: 0.1651\n",
      "Epoch 20/400\n",
      "112/112 [==============================] - 0s 2ms/step - loss: 0.1903 - val_loss: 0.1661\n",
      "Epoch 21/400\n",
      "112/112 [==============================] - 0s 2ms/step - loss: 0.1826 - val_loss: 0.1637\n",
      "Epoch 22/400\n",
      "112/112 [==============================] - 0s 2ms/step - loss: 0.1891 - val_loss: 0.1631\n",
      "Epoch 23/400\n",
      "112/112 [==============================] - 0s 2ms/step - loss: 0.1843 - val_loss: 0.1661\n",
      "Epoch 24/400\n",
      "112/112 [==============================] - 0s 2ms/step - loss: 0.1797 - val_loss: 0.1677\n",
      "Epoch 25/400\n",
      "112/112 [==============================] - 0s 2ms/step - loss: 0.1828 - val_loss: 0.1622\n",
      "Epoch 26/400\n",
      "112/112 [==============================] - 0s 2ms/step - loss: 0.1862 - val_loss: 0.1636\n",
      "Epoch 27/400\n",
      "112/112 [==============================] - 0s 2ms/step - loss: 0.1809 - val_loss: 0.1616\n",
      "Epoch 28/400\n",
      "112/112 [==============================] - 0s 2ms/step - loss: 0.1807 - val_loss: 0.1610\n",
      "Epoch 29/400\n",
      "112/112 [==============================] - 0s 2ms/step - loss: 0.1767 - val_loss: 0.1619\n",
      "Epoch 30/400\n",
      "112/112 [==============================] - 0s 2ms/step - loss: 0.1840 - val_loss: 0.1634\n",
      "Epoch 31/400\n",
      "112/112 [==============================] - 0s 2ms/step - loss: 0.1844 - val_loss: 0.1660\n",
      "Epoch 32/400\n",
      "112/112 [==============================] - 0s 2ms/step - loss: 0.1767 - val_loss: 0.1627\n",
      "Epoch 33/400\n",
      "112/112 [==============================] - 0s 2ms/step - loss: 0.1840 - val_loss: 0.1613\n",
      "Epoch 34/400\n",
      "112/112 [==============================] - 0s 2ms/step - loss: 0.1780 - val_loss: 0.1600\n",
      "Epoch 35/400\n",
      "112/112 [==============================] - 0s 2ms/step - loss: 0.1808 - val_loss: 0.1637\n",
      "Epoch 36/400\n",
      "112/112 [==============================] - 0s 2ms/step - loss: 0.1784 - val_loss: 0.1618\n",
      "Epoch 37/400\n",
      "112/112 [==============================] - 0s 2ms/step - loss: 0.1814 - val_loss: 0.1607\n",
      "Epoch 38/400\n",
      "112/112 [==============================] - 0s 2ms/step - loss: 0.1791 - val_loss: 0.1642\n",
      "Epoch 39/400\n",
      "112/112 [==============================] - 0s 2ms/step - loss: 0.1796 - val_loss: 0.1607\n",
      "Epoch 40/400\n",
      "112/112 [==============================] - 0s 2ms/step - loss: 0.1750 - val_loss: 0.1625\n",
      "Epoch 41/400\n",
      "112/112 [==============================] - 0s 2ms/step - loss: 0.1774 - val_loss: 0.1691\n",
      "Epoch 42/400\n",
      "112/112 [==============================] - 0s 2ms/step - loss: 0.1762 - val_loss: 0.1599\n",
      "Epoch 43/400\n",
      "112/112 [==============================] - 0s 2ms/step - loss: 0.1777 - val_loss: 0.1603\n",
      "Epoch 44/400\n",
      "112/112 [==============================] - 0s 2ms/step - loss: 0.1742 - val_loss: 0.1603\n",
      "Epoch 45/400\n",
      "112/112 [==============================] - 0s 2ms/step - loss: 0.1724 - val_loss: 0.1594\n",
      "Epoch 46/400\n",
      "112/112 [==============================] - 0s 2ms/step - loss: 0.1769 - val_loss: 0.1608\n",
      "Epoch 47/400\n",
      "112/112 [==============================] - 0s 2ms/step - loss: 0.1758 - val_loss: 0.1592\n",
      "Epoch 48/400\n",
      "112/112 [==============================] - 0s 2ms/step - loss: 0.1714 - val_loss: 0.1627\n",
      "Epoch 49/400\n",
      "112/112 [==============================] - 0s 2ms/step - loss: 0.1765 - val_loss: 0.1610\n",
      "Epoch 50/400\n",
      "112/112 [==============================] - 0s 2ms/step - loss: 0.1774 - val_loss: 0.1603\n",
      "Epoch 51/400\n",
      "112/112 [==============================] - 0s 2ms/step - loss: 0.1800 - val_loss: 0.1600\n",
      "Epoch 52/400\n",
      "112/112 [==============================] - 0s 2ms/step - loss: 0.1775 - val_loss: 0.1600\n",
      "Epoch 53/400\n",
      "112/112 [==============================] - 0s 2ms/step - loss: 0.1784 - val_loss: 0.1617\n",
      "Epoch 54/400\n",
      "112/112 [==============================] - 0s 2ms/step - loss: 0.1741 - val_loss: 0.1671\n",
      "Epoch 55/400\n",
      "112/112 [==============================] - 0s 2ms/step - loss: 0.1711 - val_loss: 0.1621\n",
      "Epoch 56/400\n",
      "112/112 [==============================] - 0s 2ms/step - loss: 0.1736 - val_loss: 0.1596\n",
      "Epoch 57/400\n",
      "112/112 [==============================] - 0s 2ms/step - loss: 0.1702 - val_loss: 0.1620\n"
     ]
    },
    {
     "data": {
      "text/plain": [
       "<tensorflow.python.keras.callbacks.History at 0x23819819048>"
      ]
     },
     "execution_count": 89,
     "metadata": {},
     "output_type": "execute_result"
    }
   ],
   "source": [
    "model.fit(x=X_train,y=y_train,validation_data=(X_test,y_test),callbacks=[early_stop],epochs=400)"
   ]
  },
  {
   "cell_type": "code",
   "execution_count": 90,
   "id": "d0d7ee78-174a-4e7e-88f6-14b1a36300cf",
   "metadata": {},
   "outputs": [],
   "source": [
    "loss = pd.DataFrame(model.history.history)"
   ]
  },
  {
   "cell_type": "code",
   "execution_count": 91,
   "id": "54ef22a9-064c-4542-8bd9-f67c639f9d59",
   "metadata": {},
   "outputs": [
    {
     "data": {
      "text/html": [
       "<div>\n",
       "<style scoped>\n",
       "    .dataframe tbody tr th:only-of-type {\n",
       "        vertical-align: middle;\n",
       "    }\n",
       "\n",
       "    .dataframe tbody tr th {\n",
       "        vertical-align: top;\n",
       "    }\n",
       "\n",
       "    .dataframe thead th {\n",
       "        text-align: right;\n",
       "    }\n",
       "</style>\n",
       "<table border=\"1\" class=\"dataframe\">\n",
       "  <thead>\n",
       "    <tr style=\"text-align: right;\">\n",
       "      <th></th>\n",
       "      <th>loss</th>\n",
       "      <th>val_loss</th>\n",
       "    </tr>\n",
       "  </thead>\n",
       "  <tbody>\n",
       "    <tr>\n",
       "      <th>0</th>\n",
       "      <td>0.373976</td>\n",
       "      <td>0.188065</td>\n",
       "    </tr>\n",
       "    <tr>\n",
       "      <th>1</th>\n",
       "      <td>0.218967</td>\n",
       "      <td>0.191051</td>\n",
       "    </tr>\n",
       "    <tr>\n",
       "      <th>2</th>\n",
       "      <td>0.214086</td>\n",
       "      <td>0.187732</td>\n",
       "    </tr>\n",
       "    <tr>\n",
       "      <th>3</th>\n",
       "      <td>0.210122</td>\n",
       "      <td>0.189036</td>\n",
       "    </tr>\n",
       "    <tr>\n",
       "      <th>4</th>\n",
       "      <td>0.210851</td>\n",
       "      <td>0.188818</td>\n",
       "    </tr>\n",
       "  </tbody>\n",
       "</table>\n",
       "</div>"
      ],
      "text/plain": [
       "       loss  val_loss\n",
       "0  0.373976  0.188065\n",
       "1  0.218967  0.191051\n",
       "2  0.214086  0.187732\n",
       "3  0.210122  0.189036\n",
       "4  0.210851  0.188818"
      ]
     },
     "execution_count": 91,
     "metadata": {},
     "output_type": "execute_result"
    }
   ],
   "source": [
    "loss.head()"
   ]
  },
  {
   "cell_type": "code",
   "execution_count": 92,
   "id": "561f82e2-dbc1-4b8a-ad12-5b2250217c52",
   "metadata": {},
   "outputs": [
    {
     "data": {
      "text/plain": [
       "<matplotlib.axes._subplots.AxesSubplot at 0x2381bb6a408>"
      ]
     },
     "execution_count": 92,
     "metadata": {},
     "output_type": "execute_result"
    },
    {
     "data": {
      "image/png": "[encoded data removed]",
      "text/plain": [
       "<Figure size 432x288 with 1 Axes>"
      ]
     },
     "metadata": {
      "needs_background": "light"
     },
     "output_type": "display_data"
    }
   ],
   "source": [
    "loss.plot()"
   ]
  },
  {
   "cell_type": "code",
   "execution_count": 93,
   "id": "c981d91b-255f-472a-93f5-b2351bf17f94",
   "metadata": {},
   "outputs": [
    {
     "name": "stderr",
     "output_type": "stream",
     "text": [
      "c:\\users\\gaurav\\anaconda3\\envs\\deeplnenv\\lib\\site-packages\\tensorflow\\python\\keras\\engine\\sequential.py:455: UserWarning: `model.predict_classes()` is deprecated and will be removed after 2021-01-01. Please use instead:* `np.argmax(model.predict(x), axis=-1)`,   if your model does multi-class classification   (e.g. if it uses a `softmax` last-layer activation).* `(model.predict(x) > 0.5).astype(\"int32\")`,   if your model does binary classification   (e.g. if it uses a `sigmoid` last-layer activation).\n",
      "  warnings.warn('`model.predict_classes()` is deprecated and '\n"
     ]
    }
   ],
   "source": [
    "predict_nn = model.predict_classes(X_test)"
   ]
  },
  {
   "cell_type": "code",
   "execution_count": 94,
   "id": "1af334bb-1090-4f58-bf9b-84e00630370b",
   "metadata": {},
   "outputs": [
    {
     "data": {
      "text/plain": [
       "array([[0],\n",
       "       [0],\n",
       "       [0],\n",
       "       ...,\n",
       "       [0],\n",
       "       [0],\n",
       "       [0]])"
      ]
     },
     "execution_count": 94,
     "metadata": {},
     "output_type": "execute_result"
    }
   ],
   "source": [
    "predict_nn"
   ]
  },
  {
   "cell_type": "code",
   "execution_count": 95,
   "id": "bd9efa34-337f-4f07-ae95-664ccb15163e",
   "metadata": {},
   "outputs": [
    {
     "name": "stdout",
     "output_type": "stream",
     "text": [
      "              precision    recall  f1-score   support\n",
      "\n",
      "           0       0.95      1.00      0.98      1462\n",
      "           1       0.00      0.00      0.00        71\n",
      "\n",
      "    accuracy                           0.95      1533\n",
      "   macro avg       0.48      0.50      0.49      1533\n",
      "weighted avg       0.91      0.95      0.93      1533\n",
      "\n"
     ]
    },
    {
     "name": "stderr",
     "output_type": "stream",
     "text": [
      "c:\\users\\gaurav\\anaconda3\\envs\\deeplnenv\\lib\\site-packages\\sklearn\\metrics\\classification.py:1437: UndefinedMetricWarning: Precision and F-score are ill-defined and being set to 0.0 in labels with no predicted samples.\n",
      "  'precision', 'predicted', average, warn_for)\n"
     ]
    }
   ],
   "source": [
    "print(classification_report(y_test,predict_nn))"
   ]
  },
  {
   "cell_type": "code",
   "execution_count": 96,
   "id": "a430d25f-91f7-4076-8d15-717ff76ef828",
   "metadata": {},
   "outputs": [
    {
     "name": "stdout",
     "output_type": "stream",
     "text": [
      "[[1462    0]\n",
      " [  71    0]]\n"
     ]
    }
   ],
   "source": [
    "print(confusion_matrix(y_test,predict_nn))"
   ]
  },
  {
   "cell_type": "code",
   "execution_count": 76,
   "id": "86f8d21f-1cbc-4730-a06a-51fdfc3b5831",
   "metadata": {},
   "outputs": [],
   "source": [
    "X_train, X_test, y_train, y_test = train_test_split(X,y,test_size=0.3)"
   ]
  },
  {
   "cell_type": "code",
   "execution_count": 54,
   "id": "68b5ccc6-9cce-4e41-97cd-304a566f2d58",
   "metadata": {},
   "outputs": [
    {
     "data": {
      "text/plain": [
       "(3577, 10)"
      ]
     },
     "execution_count": 54,
     "metadata": {},
     "output_type": "execute_result"
    }
   ],
   "source": [
    "X_train.shape"
   ]
  },
  {
   "cell_type": "code",
   "execution_count": 55,
   "id": "2140a0ff-28f5-4a02-8bb9-411edde617c3",
   "metadata": {},
   "outputs": [],
   "source": [
    "from sklearn.preprocessing import StandardScaler\n",
    "\n",
    "ss = StandardScaler()"
   ]
  },
  {
   "cell_type": "code",
   "execution_count": 56,
   "id": "da631282-5de6-4683-ae31-1ac6c50c204a",
   "metadata": {},
   "outputs": [],
   "source": [
    "X_train_std = ss.fit_transform(X_train)\n",
    "X_test_std = ss.transform(X_test)"
   ]
  },
  {
   "cell_type": "code",
   "execution_count": 57,
   "id": "8e33e0c6-9815-411f-8cf6-7df0423fb90e",
   "metadata": {},
   "outputs": [
    {
     "data": {
      "text/plain": [
       "array([[-0.84543782,  0.36078353, -0.33555506, ...,  0.03483217,\n",
       "         4.13271552,  0.03029477],\n",
       "       [-0.84543782,  1.37598804, -0.33555506, ..., -0.52573245,\n",
       "        -0.67702333, -1.71751783],\n",
       "       [ 1.1828191 ,  1.33184872, -0.33555506, ...,  1.83502653,\n",
       "         0.4319245 ,  0.03029477],\n",
       "       ...,\n",
       "       [ 1.1828191 , -0.74269964, -0.33555506, ..., -0.78255694,\n",
       "        -1.14123405,  0.03029477],\n",
       "       [-0.84543782,  0.1400869 , -0.33555506, ..., -1.08475524,\n",
       "        -0.65123385,  1.77810736],\n",
       "       [-0.84543782,  0.93459478, -0.33555506, ...,  0.18350845,\n",
       "         0.35455605,  1.77810736]])"
      ]
     },
     "execution_count": 57,
     "metadata": {},
     "output_type": "execute_result"
    }
   ],
   "source": [
    "X_train_std"
   ]
  },
  {
   "cell_type": "code",
   "execution_count": 46,
   "id": "45e10236-1b1a-4f22-bfa0-ced179e36fd5",
   "metadata": {},
   "outputs": [
    {
     "data": {
      "text/plain": [
       "['scaler.sav']"
      ]
     },
     "execution_count": 46,
     "metadata": {},
     "output_type": "execute_result"
    }
   ],
   "source": [
    "joblib.dump(ss,'scaler.sav')"
   ]
  },
  {
   "cell_type": "code",
   "execution_count": 47,
   "id": "9328d888-6c01-4ed7-a677-e3f9ea8dacdb",
   "metadata": {},
   "outputs": [
    {
     "data": {
      "text/plain": [
       "['scaler.pkl']"
      ]
     },
     "execution_count": 47,
     "metadata": {},
     "output_type": "execute_result"
    }
   ],
   "source": [
    "#in case .sav don't work for standard scale we will use .pkl file\n",
    "joblib.dump(ss,'scaler.pkl')"
   ]
  },
  {
   "cell_type": "markdown",
   "id": "f52861d1-f055-4290-8d64-51c86d8555d5",
   "metadata": {},
   "source": [
    "Model Training and Testing"
   ]
  },
  {
   "cell_type": "code",
   "execution_count": 58,
   "id": "5b3eb67d-7283-42be-ad0b-9e9cff8faf60",
   "metadata": {},
   "outputs": [],
   "source": [
    "from sklearn.tree import DecisionTreeClassifier\n",
    "\n",
    "dt_model = DecisionTreeClassifier()"
   ]
  },
  {
   "cell_type": "code",
   "execution_count": 59,
   "id": "2bbb199b-a7e2-4921-8038-bac23e039fb2",
   "metadata": {},
   "outputs": [
    {
     "data": {
      "text/plain": [
       "DecisionTreeClassifier(class_weight=None, criterion='gini', max_depth=None,\n",
       "                       max_features=None, max_leaf_nodes=None,\n",
       "                       min_impurity_decrease=0.0, min_impurity_split=None,\n",
       "                       min_samples_leaf=1, min_samples_split=2,\n",
       "                       min_weight_fraction_leaf=0.0, presort=False,\n",
       "                       random_state=None, splitter='best')"
      ]
     },
     "execution_count": 59,
     "metadata": {},
     "output_type": "execute_result"
    }
   ],
   "source": [
    "dt_model.fit(X_train_std,y_train)"
   ]
  },
  {
   "cell_type": "code",
   "execution_count": 60,
   "id": "3e8dd52c-4b62-4459-b6dd-a3085dc82439",
   "metadata": {},
   "outputs": [
    {
     "data": {
      "text/plain": [
       "['dt_model.sav']"
      ]
     },
     "execution_count": 60,
     "metadata": {},
     "output_type": "execute_result"
    }
   ],
   "source": [
    "joblib.dump(dt_model,'dt_model.sav')"
   ]
  },
  {
   "cell_type": "code",
   "execution_count": 61,
   "id": "3f1ddff5-7764-4f14-8046-806bee6b1a27",
   "metadata": {},
   "outputs": [
    {
     "data": {
      "text/plain": [
       "array([0.04125628, 0.18918151, 0.04166273, 0.01492892, 0.01228924,\n",
       "       0.04114389, 0.02344931, 0.33606351, 0.26979019, 0.03023441])"
      ]
     },
     "execution_count": 61,
     "metadata": {},
     "output_type": "execute_result"
    }
   ],
   "source": [
    "dt_model.feature_importances_"
   ]
  },
  {
   "cell_type": "code",
   "execution_count": 62,
   "id": "229c4920-0c7e-485c-a2cf-c09b56f436b9",
   "metadata": {},
   "outputs": [
    {
     "data": {
      "text/plain": [
       "Index(['gender', 'age', 'hypertension', 'heart_disease', 'ever_married',\n",
       "       'work_type', 'Residence_type', 'avg_glucose_level', 'bmi',\n",
       "       'smoking_status'],\n",
       "      dtype='object')"
      ]
     },
     "execution_count": 62,
     "metadata": {},
     "output_type": "execute_result"
    }
   ],
   "source": [
    "X_train.columns"
   ]
  },
  {
   "cell_type": "code",
   "execution_count": 63,
   "id": "436c66db-9e3d-42dd-8109-e8e573e8bc12",
   "metadata": {},
   "outputs": [],
   "source": [
    "dt_predict = dt_model.predict(X_test_std)"
   ]
  },
  {
   "cell_type": "code",
   "execution_count": 64,
   "id": "c38836b2-82f1-45a8-ad68-3fd888d1cc2b",
   "metadata": {},
   "outputs": [],
   "source": [
    "dt_predict_df = pd.DataFrame(dt_predict,columns=['decision_tree_prediction'])"
   ]
  },
  {
   "cell_type": "code",
   "execution_count": 65,
   "id": "7e38aa4f-9391-4d8a-b639-28d61f01dab2",
   "metadata": {},
   "outputs": [
    {
     "data": {
      "text/html": [
       "<div>\n",
       "<style scoped>\n",
       "    .dataframe tbody tr th:only-of-type {\n",
       "        vertical-align: middle;\n",
       "    }\n",
       "\n",
       "    .dataframe tbody tr th {\n",
       "        vertical-align: top;\n",
       "    }\n",
       "\n",
       "    .dataframe thead th {\n",
       "        text-align: right;\n",
       "    }\n",
       "</style>\n",
       "<table border=\"1\" class=\"dataframe\">\n",
       "  <thead>\n",
       "    <tr style=\"text-align: right;\">\n",
       "      <th></th>\n",
       "      <th>decision_tree_prediction</th>\n",
       "    </tr>\n",
       "  </thead>\n",
       "  <tbody>\n",
       "    <tr>\n",
       "      <th>0</th>\n",
       "      <td>0</td>\n",
       "    </tr>\n",
       "    <tr>\n",
       "      <th>1</th>\n",
       "      <td>0</td>\n",
       "    </tr>\n",
       "    <tr>\n",
       "      <th>2</th>\n",
       "      <td>1</td>\n",
       "    </tr>\n",
       "    <tr>\n",
       "      <th>3</th>\n",
       "      <td>0</td>\n",
       "    </tr>\n",
       "    <tr>\n",
       "      <th>4</th>\n",
       "      <td>0</td>\n",
       "    </tr>\n",
       "    <tr>\n",
       "      <th>...</th>\n",
       "      <td>...</td>\n",
       "    </tr>\n",
       "    <tr>\n",
       "      <th>1528</th>\n",
       "      <td>0</td>\n",
       "    </tr>\n",
       "    <tr>\n",
       "      <th>1529</th>\n",
       "      <td>0</td>\n",
       "    </tr>\n",
       "    <tr>\n",
       "      <th>1530</th>\n",
       "      <td>0</td>\n",
       "    </tr>\n",
       "    <tr>\n",
       "      <th>1531</th>\n",
       "      <td>0</td>\n",
       "    </tr>\n",
       "    <tr>\n",
       "      <th>1532</th>\n",
       "      <td>0</td>\n",
       "    </tr>\n",
       "  </tbody>\n",
       "</table>\n",
       "<p>1533 rows × 1 columns</p>\n",
       "</div>"
      ],
      "text/plain": [
       "      decision_tree_prediction\n",
       "0                            0\n",
       "1                            0\n",
       "2                            1\n",
       "3                            0\n",
       "4                            0\n",
       "...                        ...\n",
       "1528                         0\n",
       "1529                         0\n",
       "1530                         0\n",
       "1531                         0\n",
       "1532                         0\n",
       "\n",
       "[1533 rows x 1 columns]"
      ]
     },
     "execution_count": 65,
     "metadata": {},
     "output_type": "execute_result"
    }
   ],
   "source": [
    "dt_predict_df"
   ]
  },
  {
   "cell_type": "code",
   "execution_count": 66,
   "id": "6f59b02c-7beb-46b8-8a5b-3e5d8e4ea8ff",
   "metadata": {},
   "outputs": [],
   "source": [
    "result = pd.DataFrame(data=y_test)"
   ]
  },
  {
   "cell_type": "code",
   "execution_count": 67,
   "id": "5d992620-5efc-477e-91e9-86fcdbc3069f",
   "metadata": {},
   "outputs": [
    {
     "data": {
      "text/html": [
       "<div>\n",
       "<style scoped>\n",
       "    .dataframe tbody tr th:only-of-type {\n",
       "        vertical-align: middle;\n",
       "    }\n",
       "\n",
       "    .dataframe tbody tr th {\n",
       "        vertical-align: top;\n",
       "    }\n",
       "\n",
       "    .dataframe thead th {\n",
       "        text-align: right;\n",
       "    }\n",
       "</style>\n",
       "<table border=\"1\" class=\"dataframe\">\n",
       "  <thead>\n",
       "    <tr style=\"text-align: right;\">\n",
       "      <th></th>\n",
       "      <th>stroke</th>\n",
       "    </tr>\n",
       "  </thead>\n",
       "  <tbody>\n",
       "    <tr>\n",
       "      <th>1821</th>\n",
       "      <td>0</td>\n",
       "    </tr>\n",
       "    <tr>\n",
       "      <th>871</th>\n",
       "      <td>0</td>\n",
       "    </tr>\n",
       "    <tr>\n",
       "      <th>184</th>\n",
       "      <td>1</td>\n",
       "    </tr>\n",
       "    <tr>\n",
       "      <th>1602</th>\n",
       "      <td>0</td>\n",
       "    </tr>\n",
       "    <tr>\n",
       "      <th>2563</th>\n",
       "      <td>0</td>\n",
       "    </tr>\n",
       "    <tr>\n",
       "      <th>...</th>\n",
       "      <td>...</td>\n",
       "    </tr>\n",
       "    <tr>\n",
       "      <th>2549</th>\n",
       "      <td>0</td>\n",
       "    </tr>\n",
       "    <tr>\n",
       "      <th>2304</th>\n",
       "      <td>0</td>\n",
       "    </tr>\n",
       "    <tr>\n",
       "      <th>2932</th>\n",
       "      <td>0</td>\n",
       "    </tr>\n",
       "    <tr>\n",
       "      <th>3299</th>\n",
       "      <td>0</td>\n",
       "    </tr>\n",
       "    <tr>\n",
       "      <th>267</th>\n",
       "      <td>0</td>\n",
       "    </tr>\n",
       "  </tbody>\n",
       "</table>\n",
       "<p>1533 rows × 1 columns</p>\n",
       "</div>"
      ],
      "text/plain": [
       "      stroke\n",
       "1821       0\n",
       "871        0\n",
       "184        1\n",
       "1602       0\n",
       "2563       0\n",
       "...      ...\n",
       "2549       0\n",
       "2304       0\n",
       "2932       0\n",
       "3299       0\n",
       "267        0\n",
       "\n",
       "[1533 rows x 1 columns]"
      ]
     },
     "execution_count": 67,
     "metadata": {},
     "output_type": "execute_result"
    }
   ],
   "source": [
    "result"
   ]
  },
  {
   "cell_type": "code",
   "execution_count": 68,
   "id": "d7647e28-dd89-4f43-b5c5-498d2edadb26",
   "metadata": {},
   "outputs": [],
   "source": [
    "result['decision_tree_prediction'] = dt_predict"
   ]
  },
  {
   "cell_type": "code",
   "execution_count": 69,
   "id": "08532efc-ac35-4679-aee2-a5c4edcf5bdf",
   "metadata": {},
   "outputs": [
    {
     "data": {
      "text/html": [
       "<div>\n",
       "<style scoped>\n",
       "    .dataframe tbody tr th:only-of-type {\n",
       "        vertical-align: middle;\n",
       "    }\n",
       "\n",
       "    .dataframe tbody tr th {\n",
       "        vertical-align: top;\n",
       "    }\n",
       "\n",
       "    .dataframe thead th {\n",
       "        text-align: right;\n",
       "    }\n",
       "</style>\n",
       "<table border=\"1\" class=\"dataframe\">\n",
       "  <thead>\n",
       "    <tr style=\"text-align: right;\">\n",
       "      <th></th>\n",
       "      <th>stroke</th>\n",
       "      <th>decision_tree_prediction</th>\n",
       "    </tr>\n",
       "  </thead>\n",
       "  <tbody>\n",
       "    <tr>\n",
       "      <th>1821</th>\n",
       "      <td>0</td>\n",
       "      <td>0</td>\n",
       "    </tr>\n",
       "    <tr>\n",
       "      <th>871</th>\n",
       "      <td>0</td>\n",
       "      <td>0</td>\n",
       "    </tr>\n",
       "    <tr>\n",
       "      <th>184</th>\n",
       "      <td>1</td>\n",
       "      <td>1</td>\n",
       "    </tr>\n",
       "    <tr>\n",
       "      <th>1602</th>\n",
       "      <td>0</td>\n",
       "      <td>0</td>\n",
       "    </tr>\n",
       "    <tr>\n",
       "      <th>2563</th>\n",
       "      <td>0</td>\n",
       "      <td>0</td>\n",
       "    </tr>\n",
       "    <tr>\n",
       "      <th>...</th>\n",
       "      <td>...</td>\n",
       "      <td>...</td>\n",
       "    </tr>\n",
       "    <tr>\n",
       "      <th>2549</th>\n",
       "      <td>0</td>\n",
       "      <td>0</td>\n",
       "    </tr>\n",
       "    <tr>\n",
       "      <th>2304</th>\n",
       "      <td>0</td>\n",
       "      <td>0</td>\n",
       "    </tr>\n",
       "    <tr>\n",
       "      <th>2932</th>\n",
       "      <td>0</td>\n",
       "      <td>0</td>\n",
       "    </tr>\n",
       "    <tr>\n",
       "      <th>3299</th>\n",
       "      <td>0</td>\n",
       "      <td>0</td>\n",
       "    </tr>\n",
       "    <tr>\n",
       "      <th>267</th>\n",
       "      <td>0</td>\n",
       "      <td>0</td>\n",
       "    </tr>\n",
       "  </tbody>\n",
       "</table>\n",
       "<p>1533 rows × 2 columns</p>\n",
       "</div>"
      ],
      "text/plain": [
       "      stroke  decision_tree_prediction\n",
       "1821       0                         0\n",
       "871        0                         0\n",
       "184        1                         1\n",
       "1602       0                         0\n",
       "2563       0                         0\n",
       "...      ...                       ...\n",
       "2549       0                         0\n",
       "2304       0                         0\n",
       "2932       0                         0\n",
       "3299       0                         0\n",
       "267        0                         0\n",
       "\n",
       "[1533 rows x 2 columns]"
      ]
     },
     "execution_count": 69,
     "metadata": {},
     "output_type": "execute_result"
    }
   ],
   "source": [
    "result"
   ]
  },
  {
   "cell_type": "code",
   "execution_count": 70,
   "id": "6b9b7f6c-a661-4c60-ba83-74f90ca216a8",
   "metadata": {},
   "outputs": [
    {
     "data": {
      "text/plain": [
       "array([1], dtype=int64)"
      ]
     },
     "execution_count": 70,
     "metadata": {},
     "output_type": "execute_result"
    }
   ],
   "source": [
    "new_data=  np.array([[0,61,0,0,1,3,0,202.21,28.893237,1]])\n",
    "new_data = ss.transform(new_data)\n",
    "dt_model.predict(new_data)"
   ]
  },
  {
   "cell_type": "code",
   "execution_count": 71,
   "id": "72d964dc-f586-4640-a495-5018d35b7c69",
   "metadata": {},
   "outputs": [],
   "source": [
    "oth_data = X.iloc[0]"
   ]
  },
  {
   "cell_type": "code",
   "execution_count": 72,
   "id": "180fed66-1149-4267-bf01-190212865793",
   "metadata": {},
   "outputs": [
    {
     "data": {
      "text/plain": [
       "gender                 1.00\n",
       "age                   67.00\n",
       "hypertension           0.00\n",
       "heart_disease          1.00\n",
       "ever_married           1.00\n",
       "work_type              2.00\n",
       "Residence_type         1.00\n",
       "avg_glucose_level    228.69\n",
       "bmi                   36.60\n",
       "smoking_status         0.00\n",
       "Name: 0, dtype: float64"
      ]
     },
     "execution_count": 72,
     "metadata": {},
     "output_type": "execute_result"
    }
   ],
   "source": [
    "oth_data"
   ]
  },
  {
   "cell_type": "code",
   "execution_count": 73,
   "id": "81257f92-a05b-4f2b-a529-c5136d673c73",
   "metadata": {},
   "outputs": [],
   "source": [
    "oth_data = oth_data.values"
   ]
  },
  {
   "cell_type": "code",
   "execution_count": 74,
   "id": "1e06499c-41e7-45ae-a447-44aab9cb542d",
   "metadata": {},
   "outputs": [
    {
     "data": {
      "text/plain": [
       "array([  1.  ,  67.  ,   0.  ,   1.  ,   1.  ,   2.  ,   1.  , 228.69,\n",
       "        36.6 ,   0.  ])"
      ]
     },
     "execution_count": 74,
     "metadata": {},
     "output_type": "execute_result"
    }
   ],
   "source": [
    "oth_data"
   ]
  },
  {
   "cell_type": "code",
   "execution_count": 75,
   "id": "0aaf44c4-650e-4d43-abb3-d1441aba6896",
   "metadata": {},
   "outputs": [],
   "source": [
    "oth_dataa = np.array([oth_data])"
   ]
  },
  {
   "cell_type": "code",
   "execution_count": 76,
   "id": "c6e827d2-3aae-4b6c-9f46-7f816abccacb",
   "metadata": {},
   "outputs": [
    {
     "data": {
      "text/plain": [
       "array([[  1.  ,  67.  ,   0.  ,   1.  ,   1.  ,   2.  ,   1.  , 228.69,\n",
       "         36.6 ,   0.  ]])"
      ]
     },
     "execution_count": 76,
     "metadata": {},
     "output_type": "execute_result"
    }
   ],
   "source": [
    "oth_dataa"
   ]
  },
  {
   "cell_type": "code",
   "execution_count": 77,
   "id": "6e05355d-ae53-4089-8170-022f899c8ce8",
   "metadata": {},
   "outputs": [
    {
     "data": {
      "text/plain": [
       "array([0], dtype=int64)"
      ]
     },
     "execution_count": 77,
     "metadata": {},
     "output_type": "execute_result"
    }
   ],
   "source": [
    "dt_model.predict(oth_dataa)"
   ]
  },
  {
   "cell_type": "code",
   "execution_count": 78,
   "id": "05af9a17-1d36-4f7b-91a0-316af04f0745",
   "metadata": {},
   "outputs": [
    {
     "data": {
      "text/plain": [
       "1"
      ]
     },
     "execution_count": 78,
     "metadata": {},
     "output_type": "execute_result"
    }
   ],
   "source": [
    "y.iloc[0]"
   ]
  },
  {
   "cell_type": "code",
   "execution_count": 80,
   "id": "cdaab2e7-ef89-4e0d-adf2-b7ebcbc4afc7",
   "metadata": {},
   "outputs": [
    {
     "data": {
      "text/plain": [
       "array([[ True,  True,  True,  True,  True,  True,  True,  True,  True,\n",
       "         True]])"
      ]
     },
     "execution_count": 80,
     "metadata": {},
     "output_type": "execute_result"
    }
   ],
   "source": [
    "oth_dataa == new_data"
   ]
  },
  {
   "cell_type": "code",
   "execution_count": 78,
   "id": "2fae2cc0-dde4-40ea-ab3c-fb9e4e777a22",
   "metadata": {},
   "outputs": [],
   "source": [
    "from sklearn.metrics import classification_report, confusion_matrix, accuracy_score"
   ]
  },
  {
   "cell_type": "code",
   "execution_count": 59,
   "id": "da1a71b3-13e4-4bfc-b65c-4c1d75638259",
   "metadata": {},
   "outputs": [],
   "source": [
    "acc_dt = accuracy_score(result['stroke'],result['decision_tree_prediction'])"
   ]
  },
  {
   "cell_type": "code",
   "execution_count": 60,
   "id": "ab3cc69e-972f-4af5-9747-d027257bcf79",
   "metadata": {},
   "outputs": [
    {
     "data": {
      "text/plain": [
       "0.9001956947162426"
      ]
     },
     "execution_count": 60,
     "metadata": {},
     "output_type": "execute_result"
    }
   ],
   "source": [
    "acc_dt"
   ]
  },
  {
   "cell_type": "code",
   "execution_count": 61,
   "id": "039e9639-972d-4b5e-bed7-67da4a49531b",
   "metadata": {},
   "outputs": [
    {
     "name": "stdout",
     "output_type": "stream",
     "text": [
      "              precision    recall  f1-score   support\n",
      "\n",
      "           0       0.95      0.94      0.95      1445\n",
      "           1       0.16      0.17      0.16        88\n",
      "\n",
      "    accuracy                           0.90      1533\n",
      "   macro avg       0.55      0.56      0.56      1533\n",
      "weighted avg       0.90      0.90      0.90      1533\n",
      "\n"
     ]
    }
   ],
   "source": [
    "print(classification_report(result['stroke'],result['decision_tree_prediction']))"
   ]
  },
  {
   "cell_type": "code",
   "execution_count": 62,
   "id": "7868db5e-1b85-4bd5-aa03-160eae01e94b",
   "metadata": {},
   "outputs": [
    {
     "name": "stdout",
     "output_type": "stream",
     "text": [
      "[[1365   80]\n",
      " [  73   15]]\n"
     ]
    },
    {
     "data": {
      "text/plain": [
       "<matplotlib.axes._subplots.AxesSubplot at 0x24d054c1c88>"
      ]
     },
     "execution_count": 62,
     "metadata": {},
     "output_type": "execute_result"
    },
    {
     "data": {
      "image/png": "[encoded data removed]",
      "text/plain": [
       "<Figure size 432x288 with 2 Axes>"
      ]
     },
     "metadata": {
      "needs_background": "light"
     },
     "output_type": "display_data"
    }
   ],
   "source": [
    "print(confusion_matrix(result['stroke'],result['decision_tree_prediction']))\n",
    "sns.heatmap(confusion_matrix(result['stroke'],result['decision_tree_prediction']),annot=True)"
   ]
  },
  {
   "cell_type": "code",
   "execution_count": 63,
   "id": "7777a87f-3fb9-427c-b0e6-ee05248af4c6",
   "metadata": {},
   "outputs": [],
   "source": [
    "from sklearn.linear_model import LogisticRegression\n",
    "\n",
    "lr_model = LogisticRegression()"
   ]
  },
  {
   "cell_type": "code",
   "execution_count": 64,
   "id": "f25d61fd-3535-4f05-926e-aac8800bec8a",
   "metadata": {},
   "outputs": [
    {
     "name": "stderr",
     "output_type": "stream",
     "text": [
      "c:\\users\\gaurav\\anaconda3\\envs\\deeplnenv\\lib\\site-packages\\sklearn\\linear_model\\logistic.py:432: FutureWarning: Default solver will be changed to 'lbfgs' in 0.22. Specify a solver to silence this warning.\n",
      "  FutureWarning)\n"
     ]
    },
    {
     "data": {
      "text/plain": [
       "LogisticRegression(C=1.0, class_weight=None, dual=False, fit_intercept=True,\n",
       "                   intercept_scaling=1, l1_ratio=None, max_iter=100,\n",
       "                   multi_class='warn', n_jobs=None, penalty='l2',\n",
       "                   random_state=None, solver='warn', tol=0.0001, verbose=0,\n",
       "                   warm_start=False)"
      ]
     },
     "execution_count": 64,
     "metadata": {},
     "output_type": "execute_result"
    }
   ],
   "source": [
    "lr_model.fit(X_train_std,y_train)"
   ]
  },
  {
   "cell_type": "code",
   "execution_count": 65,
   "id": "d9130b0a-1d92-4d04-b5f6-07133b4b6894",
   "metadata": {},
   "outputs": [
    {
     "data": {
      "text/plain": [
       "['lr_model.sav']"
      ]
     },
     "execution_count": 65,
     "metadata": {},
     "output_type": "execute_result"
    }
   ],
   "source": [
    "joblib.dump(lr_model,'lr_model.sav')"
   ]
  },
  {
   "cell_type": "code",
   "execution_count": 66,
   "id": "0b032b92-f71a-41e2-a36a-c3b322392998",
   "metadata": {},
   "outputs": [],
   "source": [
    "lr_predict = lr_model.predict(X_test_std)"
   ]
  },
  {
   "cell_type": "code",
   "execution_count": 67,
   "id": "1662a9c4-2c51-4f12-9df6-0cc6d7cb834d",
   "metadata": {},
   "outputs": [],
   "source": [
    "acc_lr = accuracy_score(lr_predict,y_test)"
   ]
  },
  {
   "cell_type": "code",
   "execution_count": 68,
   "id": "43e27bb9-fa83-4157-a240-978b80cc7619",
   "metadata": {},
   "outputs": [
    {
     "data": {
      "text/plain": [
       "0.9425962165688193"
      ]
     },
     "execution_count": 68,
     "metadata": {},
     "output_type": "execute_result"
    }
   ],
   "source": [
    "acc_lr"
   ]
  },
  {
   "cell_type": "code",
   "execution_count": 69,
   "id": "de41ffc2-5386-4d2e-9768-0b3626287290",
   "metadata": {},
   "outputs": [
    {
     "name": "stdout",
     "output_type": "stream",
     "text": [
      "[[1445    0]\n",
      " [  88    0]]\n"
     ]
    },
    {
     "data": {
      "text/plain": [
       "<matplotlib.axes._subplots.AxesSubplot at 0x24d055a4208>"
      ]
     },
     "execution_count": 69,
     "metadata": {},
     "output_type": "execute_result"
    },
    {
     "data": {
      "image/png": "[encoded data removed]",
      "text/plain": [
       "<Figure size 432x288 with 2 Axes>"
      ]
     },
     "metadata": {
      "needs_background": "light"
     },
     "output_type": "display_data"
    }
   ],
   "source": [
    "print(confusion_matrix(y_test,lr_predict))\n",
    "\n",
    "sns.heatmap(confusion_matrix(y_test,lr_predict),annot=True)"
   ]
  },
  {
   "cell_type": "code",
   "execution_count": 70,
   "id": "e10f8c0c-76b5-4c1b-8160-992db5c7e536",
   "metadata": {},
   "outputs": [],
   "source": [
    "from sklearn.neighbors import KNeighborsClassifier"
   ]
  },
  {
   "cell_type": "code",
   "execution_count": 71,
   "id": "14f4724e-27dc-4edf-b006-bd0e02cfb022",
   "metadata": {},
   "outputs": [],
   "source": [
    "kn_model = KNeighborsClassifier(n_neighbors=9)"
   ]
  },
  {
   "cell_type": "code",
   "execution_count": 72,
   "id": "df5ff428-1363-4a7c-82b4-2ec50f69a8ad",
   "metadata": {},
   "outputs": [
    {
     "data": {
      "text/plain": [
       "KNeighborsClassifier(algorithm='auto', leaf_size=30, metric='minkowski',\n",
       "                     metric_params=None, n_jobs=None, n_neighbors=9, p=2,\n",
       "                     weights='uniform')"
      ]
     },
     "execution_count": 72,
     "metadata": {},
     "output_type": "execute_result"
    }
   ],
   "source": [
    "kn_model.fit(X_train_std,y_train)"
   ]
  },
  {
   "cell_type": "code",
   "execution_count": 73,
   "id": "f4428eac-8f24-496b-b8a3-deee479d0ce4",
   "metadata": {},
   "outputs": [
    {
     "data": {
      "text/plain": [
       "['kn_model.sav']"
      ]
     },
     "execution_count": 73,
     "metadata": {},
     "output_type": "execute_result"
    }
   ],
   "source": [
    "joblib.dump(kn_model,'kn_model.sav')"
   ]
  },
  {
   "cell_type": "code",
   "execution_count": 74,
   "id": "2c83033e-5a6c-4d8a-91df-33b4152eb118",
   "metadata": {},
   "outputs": [],
   "source": [
    "kn_predict = kn_model.predict(X_test_std)"
   ]
  },
  {
   "cell_type": "code",
   "execution_count": 75,
   "id": "74868de2-5de3-467b-89c0-21709becfc9f",
   "metadata": {},
   "outputs": [],
   "source": [
    "acc_knn = accuracy_score(y_test,kn_predict)"
   ]
  },
  {
   "cell_type": "code",
   "execution_count": 76,
   "id": "acff6645-11ce-4bfc-a959-2ff5b8f4e2b8",
   "metadata": {},
   "outputs": [
    {
     "data": {
      "text/plain": [
       "0.9432485322896281"
      ]
     },
     "execution_count": 76,
     "metadata": {},
     "output_type": "execute_result"
    }
   ],
   "source": [
    "acc_knn"
   ]
  },
  {
   "cell_type": "code",
   "execution_count": 77,
   "id": "b1c179cd-99c2-4470-b24f-52cdd01843c6",
   "metadata": {},
   "outputs": [
    {
     "name": "stdout",
     "output_type": "stream",
     "text": [
      "[[1445    0]\n",
      " [  87    1]]\n"
     ]
    },
    {
     "data": {
      "text/plain": [
       "<matplotlib.axes._subplots.AxesSubplot at 0x24d0564ad88>"
      ]
     },
     "execution_count": 77,
     "metadata": {},
     "output_type": "execute_result"
    },
    {
     "data": {
      "image/png": "[encoded data removed]",
      "text/plain": [
       "<Figure size 432x288 with 2 Axes>"
      ]
     },
     "metadata": {
      "needs_background": "light"
     },
     "output_type": "display_data"
    }
   ],
   "source": [
    "print(confusion_matrix(y_test,kn_predict))\n",
    "\n",
    "sns.heatmap(confusion_matrix(y_test,kn_predict),annot=True)"
   ]
  },
  {
   "cell_type": "code",
   "execution_count": 78,
   "id": "57044fdf-09cf-4c71-9c9d-89a902968dad",
   "metadata": {},
   "outputs": [
    {
     "name": "stdout",
     "output_type": "stream",
     "text": [
      "1 : 0.9073711676451403\n",
      "2 : 0.9425962165688193\n",
      "3 : 0.9406392694063926\n",
      "4 : 0.9419439008480104\n",
      "5 : 0.9412915851272016\n",
      "6 : 0.943900848010437\n",
      "7 : 0.9432485322896281\n",
      "8 : 0.9432485322896281\n",
      "9 : 0.9432485322896281\n",
      "10 : 0.9425962165688193\n",
      "11 : 0.9425962165688193\n",
      "12 : 0.9425962165688193\n",
      "13 : 0.9425962165688193\n",
      "14 : 0.9425962165688193\n",
      "15 : 0.9425962165688193\n",
      "16 : 0.9425962165688193\n",
      "17 : 0.9425962165688193\n",
      "18 : 0.9425962165688193\n",
      "19 : 0.9425962165688193\n"
     ]
    }
   ],
   "source": [
    "for i in range(1,20):\n",
    "    knn_model = KNeighborsClassifier(n_neighbors=i)\n",
    "    knn_model.fit(X_train_std,y_train)\n",
    "    knn_predict = knn_model.predict(X_test_std)\n",
    "    print(f'{i} : {accuracy_score(y_test,knn_predict)}')\n",
    "    "
   ]
  },
  {
   "cell_type": "code",
   "execution_count": 79,
   "id": "2fd51f70-287f-4506-98da-fbb77449b8b3",
   "metadata": {},
   "outputs": [],
   "source": [
    "from sklearn.ensemble import RandomForestClassifier"
   ]
  },
  {
   "cell_type": "code",
   "execution_count": 80,
   "id": "2cc35282-f79e-4226-97e2-6d8fbc1d6878",
   "metadata": {},
   "outputs": [],
   "source": [
    "rf_model = RandomForestClassifier()"
   ]
  },
  {
   "cell_type": "code",
   "execution_count": 81,
   "id": "6422e095-72d9-478f-8469-16cbe01eedbf",
   "metadata": {},
   "outputs": [
    {
     "name": "stderr",
     "output_type": "stream",
     "text": [
      "c:\\users\\gaurav\\anaconda3\\envs\\deeplnenv\\lib\\site-packages\\sklearn\\ensemble\\forest.py:245: FutureWarning: The default value of n_estimators will change from 10 in version 0.20 to 100 in 0.22.\n",
      "  \"10 in version 0.20 to 100 in 0.22.\", FutureWarning)\n"
     ]
    },
    {
     "data": {
      "text/plain": [
       "RandomForestClassifier(bootstrap=True, class_weight=None, criterion='gini',\n",
       "                       max_depth=None, max_features='auto', max_leaf_nodes=None,\n",
       "                       min_impurity_decrease=0.0, min_impurity_split=None,\n",
       "                       min_samples_leaf=1, min_samples_split=2,\n",
       "                       min_weight_fraction_leaf=0.0, n_estimators=10,\n",
       "                       n_jobs=None, oob_score=False, random_state=None,\n",
       "                       verbose=0, warm_start=False)"
      ]
     },
     "execution_count": 81,
     "metadata": {},
     "output_type": "execute_result"
    }
   ],
   "source": [
    "rf_model.fit(X_train_std,y_train)"
   ]
  },
  {
   "cell_type": "code",
   "execution_count": 82,
   "id": "e4a919c3-58bc-4d97-81e3-9f42e7754e52",
   "metadata": {},
   "outputs": [
    {
     "data": {
      "text/plain": [
       "['rf_model.sav']"
      ]
     },
     "execution_count": 82,
     "metadata": {},
     "output_type": "execute_result"
    }
   ],
   "source": [
    "joblib.dump(rf_model,'rf_model.sav')"
   ]
  },
  {
   "cell_type": "code",
   "execution_count": 83,
   "id": "c92c4b92-c861-498a-ad48-ea4f489fa8d0",
   "metadata": {},
   "outputs": [],
   "source": [
    "rf_predict = rf_model.predict(X_test_std)"
   ]
  },
  {
   "cell_type": "code",
   "execution_count": 84,
   "id": "ee680655-9ead-4458-8c49-6e0d4e1f2581",
   "metadata": {},
   "outputs": [],
   "source": [
    "acc_rf = accuracy_score(y_test,rf_predict)"
   ]
  },
  {
   "cell_type": "code",
   "execution_count": 85,
   "id": "7e2544b7-43c1-479a-a600-8188be4a378e",
   "metadata": {},
   "outputs": [
    {
     "data": {
      "text/plain": [
       "0.9386823222439661"
      ]
     },
     "execution_count": 85,
     "metadata": {},
     "output_type": "execute_result"
    }
   ],
   "source": [
    "acc_rf"
   ]
  },
  {
   "cell_type": "code",
   "execution_count": 86,
   "id": "4e88c844-17fb-4f41-969f-dd20e2b540c7",
   "metadata": {},
   "outputs": [
    {
     "name": "stdout",
     "output_type": "stream",
     "text": [
      "[[1439    6]\n",
      " [  88    0]]\n"
     ]
    },
    {
     "data": {
      "text/plain": [
       "<matplotlib.axes._subplots.AxesSubplot at 0x24d057aabc8>"
      ]
     },
     "execution_count": 86,
     "metadata": {},
     "output_type": "execute_result"
    },
    {
     "data": {
      "image/png": "[encoded data removed]",
      "text/plain": [
       "<Figure size 432x288 with 2 Axes>"
      ]
     },
     "metadata": {
      "needs_background": "light"
     },
     "output_type": "display_data"
    }
   ],
   "source": [
    "print(confusion_matrix(y_test,rf_predict))\n",
    "\n",
    "sns.heatmap(confusion_matrix(y_test,rf_predict),annot=True)"
   ]
  },
  {
   "cell_type": "code",
   "execution_count": 87,
   "id": "73b7bde9-6e7c-4eb5-ac18-e16206898d4c",
   "metadata": {},
   "outputs": [],
   "source": [
    "from sklearn.svm import SVC"
   ]
  },
  {
   "cell_type": "code",
   "execution_count": 88,
   "id": "853c86a6-c7e6-4533-8e3b-2fad15875e10",
   "metadata": {},
   "outputs": [],
   "source": [
    "svm_model = SVC()"
   ]
  },
  {
   "cell_type": "code",
   "execution_count": 89,
   "id": "1ad0bbed-01a9-49f1-b005-8933615ead7a",
   "metadata": {},
   "outputs": [
    {
     "data": {
      "text/plain": [
       "SVC(C=1.0, cache_size=200, class_weight=None, coef0=0.0,\n",
       "    decision_function_shape='ovr', degree=3, gamma='auto_deprecated',\n",
       "    kernel='rbf', max_iter=-1, probability=False, random_state=None,\n",
       "    shrinking=True, tol=0.001, verbose=False)"
      ]
     },
     "execution_count": 89,
     "metadata": {},
     "output_type": "execute_result"
    }
   ],
   "source": [
    "svm_model.fit(X_train_std,y_train)"
   ]
  },
  {
   "cell_type": "code",
   "execution_count": 90,
   "id": "5169b571-0678-4b11-ab60-d2979a45a0fe",
   "metadata": {},
   "outputs": [
    {
     "data": {
      "text/plain": [
       "['svm_model.sav']"
      ]
     },
     "execution_count": 90,
     "metadata": {},
     "output_type": "execute_result"
    }
   ],
   "source": [
    "joblib.dump(svm_model,'svm_model.sav')"
   ]
  },
  {
   "cell_type": "code",
   "execution_count": 91,
   "id": "f7d6086c-d8b6-4ea8-a386-419c4fb9d055",
   "metadata": {},
   "outputs": [],
   "source": [
    "svm_predict = svm_model.predict(X_test_std)"
   ]
  },
  {
   "cell_type": "code",
   "execution_count": 92,
   "id": "3c746c89-0738-4a92-ac7e-f64754b05bfb",
   "metadata": {},
   "outputs": [],
   "source": [
    "acc_svm = accuracy_score(y_test,svm_predict)"
   ]
  },
  {
   "cell_type": "code",
   "execution_count": 93,
   "id": "153f1d68-f9b1-4e5a-8321-0a2eda0af864",
   "metadata": {},
   "outputs": [
    {
     "data": {
      "text/plain": [
       "0.9425962165688193"
      ]
     },
     "execution_count": 93,
     "metadata": {},
     "output_type": "execute_result"
    }
   ],
   "source": [
    "acc_svm"
   ]
  },
  {
   "cell_type": "code",
   "execution_count": 94,
   "id": "e2286460-3b0b-45f6-9782-7da192912322",
   "metadata": {},
   "outputs": [
    {
     "name": "stdout",
     "output_type": "stream",
     "text": [
      "[[1445    0]\n",
      " [  88    0]]\n"
     ]
    },
    {
     "data": {
      "text/plain": [
       "<matplotlib.axes._subplots.AxesSubplot at 0x24d05852488>"
      ]
     },
     "execution_count": 94,
     "metadata": {},
     "output_type": "execute_result"
    },
    {
     "data": {
      "image/png": "[encoded data removed]",
      "text/plain": [
       "<Figure size 432x288 with 2 Axes>"
      ]
     },
     "metadata": {
      "needs_background": "light"
     },
     "output_type": "display_data"
    }
   ],
   "source": [
    "print(confusion_matrix(y_test,svm_predict))\n",
    "\n",
    "sns.heatmap(confusion_matrix(y_test,svm_predict),annot=True)"
   ]
  },
  {
   "cell_type": "code",
   "execution_count": 95,
   "id": "23f14fd4-18a9-4a6d-8701-f71005e1a7c5",
   "metadata": {},
   "outputs": [],
   "source": [
    "acc= [acc_dt,acc_lr,acc_knn,acc_rf,acc_svm]\n",
    "labels = ['Decision Tree','Logistic Regression','K_neighst_neighbors','RandomForest','SVM']"
   ]
  },
  {
   "cell_type": "code",
   "execution_count": 96,
   "id": "e8b22240-430d-44b2-a397-7cb148968942",
   "metadata": {},
   "outputs": [
    {
     "data": {
      "text/plain": [
       "<BarContainer object of 5 artists>"
      ]
     },
     "execution_count": 96,
     "metadata": {},
     "output_type": "execute_result"
    },
    {
     "data": {
      "image/png": "[encoded data removed]",
      "text/plain": [
       "<Figure size 432x288 with 1 Axes>"
      ]
     },
     "metadata": {
      "needs_background": "light"
     },
     "output_type": "display_data"
    }
   ],
   "source": [
    "plt.bar(labels,acc,)"
   ]
  },
  {
   "cell_type": "code",
   "execution_count": 97,
   "id": "e433b694-25c1-41e9-80a6-e127d461a225",
   "metadata": {},
   "outputs": [
    {
     "data": {
      "text/plain": [
       "[<matplotlib.lines.Line2D at 0x24d06948f48>]"
      ]
     },
     "execution_count": 97,
     "metadata": {},
     "output_type": "execute_result"
    },
    {
     "data": {
      "image/png": "[encoded data removed]",
      "text/plain": [
       "<Figure size 432x288 with 1 Axes>"
      ]
     },
     "metadata": {
      "needs_background": "light"
     },
     "output_type": "display_data"
    }
   ],
   "source": [
    "plt.plot(labels,acc)"
   ]
  },
  {
   "cell_type": "code",
   "execution_count": 98,
   "id": "298ad575-df14-4110-8fbb-2bb158026369",
   "metadata": {},
   "outputs": [
    {
     "data": {
      "text/plain": [
       "Text(0, 0.5, 'Accuracy')"
      ]
     },
     "execution_count": 98,
     "metadata": {},
     "output_type": "execute_result"
    },
    {
     "data": {
      "image/png": "[encoded data removed]",
      "text/plain": [
       "<Figure size 576x360 with 1 Axes>"
      ]
     },
     "metadata": {
      "needs_background": "light"
     },
     "output_type": "display_data"
    }
   ],
   "source": [
    "plt.figure(figsize=(8,5))\n",
    "sns.scatterplot(x=labels,y=acc)\n",
    "plt.xlabel('Algorithms')\n",
    "plt.ylabel('Accuracy')"
   ]
  }
 ],
 "metadata": {
  "kernelspec": {
   "display_name": "Python 3 (ipykernel)",
   "language": "python",
   "name": "python3"
  },
  "language_info": {
   "codemirror_mode": {
    "name": "ipython",
    "version": 3
   },
   "file_extension": ".py",
   "mimetype": "text/x-python",
   "name": "python",
   "nbconvert_exporter": "python",
   "pygments_lexer": "ipython3",
   "version": "3.7.11"
  }
 },
 "nbformat": 4,
 "nbformat_minor": 5
}
